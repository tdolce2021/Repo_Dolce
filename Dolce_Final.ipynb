{
  "cells": [
    {
      "cell_type": "markdown",
      "metadata": {
        "id": "view-in-github",
        "colab_type": "text"
      },
      "source": [
        "<a href=\"https://colab.research.google.com/github/tdolce2021/Repo_Dolce/blob/main/Dolce_Final.ipynb\" target=\"_parent\"><img src=\"https://colab.research.google.com/assets/colab-badge.svg\" alt=\"Open In Colab\"/></a>"
      ]
    },
    {
      "cell_type": "markdown",
      "source": [
        "# STA 2023 Final Project\n",
        "## Directions:\n",
        "\n",
        "1) Replace the image dataset in the google slides with your own data.\n",
        "\n",
        "2) Comment and explain all code to the best of your ability.\n",
        "\n",
        "3) Run your model 3 times.\n",
        "\n",
        "4) Report best, worst, and average of the three runs.\n",
        "\n",
        "Use any and all resources available to you.\n",
        "\n",
        "Comment and explain the code.\n",
        "\n",
        "Answer the questions to the best of your abilities.\n",
        "\n",
        "If you have any questions, txt 561-479-8123\n",
        "\n",
        "Save this notebook to your GitHub and submit the link on Canvas"
      ],
      "metadata": {
        "id": "DH_IjvzeQsdC"
      }
    },
    {
      "cell_type": "code",
      "execution_count": 1,
      "metadata": {
        "id": "MJjTOJXQY7L2"
      },
      "outputs": [],
      "source": [
        "%%capture\n",
        "!pip install wandb\n",
        "!apt-get install poppler-utils\n",
        "!pip install pdf2image\n",
        "!pip install flashtorch\n",
        "import requests\n",
        "from pdf2image import convert_from_path\n",
        "import matplotlib.pyplot as plt\n",
        "import numpy as np\n",
        "import torch\n",
        "import requests\n",
        "from torchvision import *\n",
        "from torchvision.models import *\n",
        "from flashtorch.utils import apply_transforms\n",
        "import wandb as wb"
      ]
    },
    {
      "cell_type": "markdown",
      "source": [
        "this is how you start up any notebook/code. you have to introduce imports to utilize the code and run the notebook smoothly with no errors."
      ],
      "metadata": {
        "id": "U9Chp24YNsrk"
      }
    },
    {
      "cell_type": "code",
      "execution_count": 2,
      "metadata": {
        "id": "OcM-MSMRmAXL"
      },
      "outputs": [],
      "source": [
        "def GPU(data):\n",
        "    return torch.tensor(data, requires_grad=True, dtype=torch.float, device=torch.device('cuda'))\n",
        "\n",
        "def GPU_data(data):\n",
        "    return torch.tensor(data, requires_grad=False, dtype=torch.float, device=torch.device('cuda'))\n",
        "\n",
        "def plot(x):\n",
        "    fig, ax = plt.subplots()\n",
        "    im = ax.imshow(x, cmap = 'gray')\n",
        "    ax.axis('off')\n",
        "    fig.set_size_inches(5, 5)\n",
        "    plt.show()\n",
        "    \n",
        "def get_google_slide(url):\n",
        "    url_head = \"https://docs.google.com/presentation/d/\"\n",
        "    url_body = url.split('/')[5]\n",
        "    page_id = url.split('.')[-1]\n",
        "    return url_head + url_body + \"/export/pdf?id=\" + url_body + \"&pageid=\" + page_id\n",
        "\n",
        "def get_slides(url):\n",
        "    url = get_google_slide(url)\n",
        "    r = requests.get(url, allow_redirects=True)\n",
        "    open('file.pdf', 'wb').write(r.content)\n",
        "    images = convert_from_path('file.pdf', 500)\n",
        "    return images\n",
        "\n",
        "def load(image):\n",
        "\n",
        "    return apply_transforms(image).clone().detach().requires_grad_(True).to(device)\n",
        "\n",
        "device = torch.device(\"cuda:0\" if torch.cuda.is_available() else \"cpu\")"
      ]
    },
    {
      "cell_type": "markdown",
      "source": [
        "The GPU() and GPU_data() functions create PyTorch tensors and specify that they should be stored on a GPU. The plot() function creates a plot of a given data using the imshow() method. The get_google_slide() function generates the URL of a google slides presentation in a pdf. The get_slides() function uses the requests library to download the pdf file from the generated URL, then uses the convert_from_path() method convert the pdf into a series of images. The load() function uses transformations to an image and returns it as a PyTorch tensor."
      ],
      "metadata": {
        "id": "Ldn5UEuARW0m"
      }
    },
    {
      "cell_type": "code",
      "execution_count": 3,
      "metadata": {
        "id": "opN3hI0lemBV",
        "colab": {
          "base_uri": "https://localhost:8080/",
          "height": 66,
          "referenced_widgets": [
            "1b51c43ffa4d43469a8030f0099d6793",
            "0414b94859414e8d9ea38051a0ab5d0a",
            "b91e6d524dc24458ae52a5392b1bc843",
            "29bfba32cca84a1991b9e1e37c20bd14",
            "ddce4cefb9234eb9b7d8a9325e8af760",
            "4fe0054aa0f44a1aa817279b2faf3c0c",
            "cc403dad5be547ec92e8dd48a45b08a8",
            "f7d8cdd25e404b059b77a1dd82727534",
            "5dec0fef3b334307b62ec7ce664ed010",
            "bbd3312c08be4792a9ef92b80fac437b",
            "82cfb265937445bb9eb5c61efc31165e"
          ]
        },
        "outputId": "8a8efb5d-7166-4851-aa58-92b64868428b"
      },
      "outputs": [
        {
          "output_type": "stream",
          "name": "stderr",
          "text": [
            "Downloading: \"https://download.pytorch.org/models/alexnet-owt-7be5be79.pth\" to /root/.cache/torch/hub/checkpoints/alexnet-owt-7be5be79.pth\n"
          ]
        },
        {
          "output_type": "display_data",
          "data": {
            "text/plain": [
              "  0%|          | 0.00/233M [00:00<?, ?B/s]"
            ],
            "application/vnd.jupyter.widget-view+json": {
              "version_major": 2,
              "version_minor": 0,
              "model_id": "1b51c43ffa4d43469a8030f0099d6793"
            }
          },
          "metadata": {}
        }
      ],
      "source": [
        "labels = {int(key):value for (key, value) in requests.get('https://s3.amazonaws.com/mlpipes/pytorch-quick-start/labels.json').json().items()}\n",
        "\n",
        "model = alexnet(weights='DEFAULT').to(device)\n",
        "model.eval();"
      ]
    },
    {
      "cell_type": "markdown",
      "source": [
        "creates a key value for each pair that is returned from the URL. 'alexnet' is set to use default weights. 'eval' ses everything to evaluation mode."
      ],
      "metadata": {
        "id": "AkkSegyDUb9_"
      }
    },
    {
      "cell_type": "code",
      "execution_count": 4,
      "metadata": {
        "colab": {
          "base_uri": "https://localhost:8080/",
          "height": 35
        },
        "id": "fBG9yFq8rSJA",
        "outputId": "9c71e941-473c-4dbe-b597-baee9ae51e26"
      },
      "outputs": [
        {
          "output_type": "execute_result",
          "data": {
            "text/plain": [
              "'https://docs.google.com/presentation/d/125O1Y5jK5DDzuPJ4RdSRSqK-WgU2Sp7DKUvETU9P-UE/edit?usp=sharing'"
            ],
            "application/vnd.google.colaboratory.intrinsic+json": {
              "type": "string"
            }
          },
          "metadata": {},
          "execution_count": 4
        }
      ],
      "source": [
        "\"https://docs.google.com/presentation/d/125O1Y5jK5DDzuPJ4RdSRSqK-WgU2Sp7DKUvETU9P-UE/edit?usp=sharing\""
      ]
    },
    {
      "cell_type": "code",
      "execution_count": 5,
      "metadata": {
        "id": "2EnZVMTqiqwz"
      },
      "outputs": [],
      "source": [
        "url = \"https://docs.google.com/presentation/d/125O1Y5jK5DDzuPJ4RdSRSqK-WgU2Sp7DKUvETU9P-UE/edit#slide=id.p\""
      ]
    },
    {
      "cell_type": "code",
      "execution_count": null,
      "metadata": {
        "colab": {
          "base_uri": "https://localhost:8080/",
          "height": 589
        },
        "id": "h7MhH8hrR3AE",
        "outputId": "e8d18c08-bee5-45c6-9916-8084d712824a"
      },
      "outputs": [
        {
          "output_type": "display_data",
          "data": {
            "text/plain": [
              "<Figure size 360x360 with 1 Axes>"
            ],
            "image/png": "[encoded data removed]"
          },
          "metadata": {
            "needs_background": "light"
          }
        },
        {
          "output_type": "display_data",
          "data": {
            "text/plain": [
              "<Figure size 360x360 with 1 Axes>"
            ],
            "image/png": "[encoded data removed]"
          },
          "metadata": {
            "needs_background": "light"
          }
        }
      ],
      "source": [
        "images = []\n",
        "\n",
        "for image in get_slides(url):\n",
        "\n",
        "    plot(image)\n",
        "\n",
        "    images.append(load(image))\n",
        "\n",
        "images = torch.vstack(images)"
      ]
    },
    {
      "cell_type": "markdown",
      "source": [
        "this fetches the images from the google slides for the different picture chosen"
      ],
      "metadata": {
        "id": "KZMOkz-qV2N-"
      }
    },
    {
      "cell_type": "code",
      "execution_count": null,
      "metadata": {
        "id": "uKsUVAPdQwmP"
      },
      "outputs": [],
      "source": [
        "images.shape"
      ]
    },
    {
      "cell_type": "markdown",
      "source": [
        "returns the dimmensions of the images above. (I think it means 5o images, 3 colors, and the actual dimensions are 224 x 224)"
      ],
      "metadata": {
        "id": "6wI8RGojWh0t"
      }
    },
    {
      "cell_type": "code",
      "execution_count": null,
      "metadata": {
        "id": "fJlgt1avR3I9"
      },
      "outputs": [],
      "source": [
        "model(images)"
      ]
    },
    {
      "cell_type": "code",
      "execution_count": null,
      "metadata": {
        "id": "lgGzMREYR3LN"
      },
      "outputs": [],
      "source": [
        "y = model(images)"
      ]
    },
    {
      "cell_type": "code",
      "execution_count": null,
      "metadata": {
        "id": "L3NVy8_7T_rb"
      },
      "outputs": [],
      "source": [
        "y.shape"
      ]
    },
    {
      "cell_type": "markdown",
      "source": [
        "y was already set as a call for the images and asking for the shape made it return in dimensions"
      ],
      "metadata": {
        "id": "In68HnG0YSMm"
      }
    },
    {
      "cell_type": "code",
      "execution_count": null,
      "metadata": {
        "id": "UsYfYT6UR3Nn"
      },
      "outputs": [],
      "source": [
        "guesses = torch.argmax(y, 1).cpu().numpy()"
      ]
    },
    {
      "cell_type": "markdown",
      "source": [],
      "metadata": {
        "id": "QVTjmwsiZ3Mp"
      }
    },
    {
      "cell_type": "code",
      "execution_count": null,
      "metadata": {
        "id": "QvSec8rITW7T"
      },
      "outputs": [],
      "source": [
        "for i in list(guesses):\n",
        "    print(labels[i])"
      ]
    },
    {
      "cell_type": "code",
      "source": [
        "Y = np.zeros(50,)\n",
        "Y[25:] = 1"
      ],
      "metadata": {
        "id": "IJ1OvwtUdYFS"
      },
      "execution_count": null,
      "outputs": []
    },
    {
      "cell_type": "markdown",
      "source": [
        "this sets the array to zeros??"
      ],
      "metadata": {
        "id": "dUDWrzhTfRuZ"
      }
    },
    {
      "cell_type": "code",
      "execution_count": null,
      "metadata": {
        "id": "HSF3ICfP04kM"
      },
      "outputs": [],
      "source": [
        "Y"
      ]
    },
    {
      "cell_type": "code",
      "execution_count": null,
      "metadata": {
        "id": "2cTyUsdDdn_i"
      },
      "outputs": [],
      "source": [
        "X = y.detach().cpu().numpy() "
      ]
    },
    {
      "cell_type": "markdown",
      "source": [
        "x converted to y"
      ],
      "metadata": {
        "id": "0b7l80gvhTcF"
      }
    },
    {
      "cell_type": "code",
      "execution_count": null,
      "metadata": {
        "id": "BbOY8N_tdn_j"
      },
      "outputs": [],
      "source": [
        "X.shape"
      ]
    },
    {
      "cell_type": "code",
      "execution_count": null,
      "metadata": {
        "id": "7JIJBwbVdn_j"
      },
      "outputs": [],
      "source": [
        "plt.plot(X[0],'.')"
      ]
    },
    {
      "cell_type": "markdown",
      "source": [
        "plotting the array of images"
      ],
      "metadata": {
        "id": "aBXY2mqWg-cw"
      }
    },
    {
      "cell_type": "code",
      "execution_count": null,
      "metadata": {
        "id": "OB9J8q8LEgCG"
      },
      "outputs": [],
      "source": [
        "plt.plot(X[0],'g.')"
      ]
    },
    {
      "cell_type": "code",
      "execution_count": null,
      "metadata": {
        "id": "_pfcg2h51IQr"
      },
      "outputs": [],
      "source": [
        "X[0]"
      ]
    },
    {
      "cell_type": "code",
      "execution_count": null,
      "metadata": {
        "id": "BaHI4-u_1O87"
      },
      "outputs": [],
      "source": [
        "np.argmax(X[0])"
      ]
    },
    {
      "cell_type": "code",
      "execution_count": null,
      "metadata": {
        "id": "lEJfAcaM2mdG"
      },
      "outputs": [],
      "source": [
        "labels[948]"
      ]
    },
    {
      "cell_type": "code",
      "execution_count": null,
      "metadata": {
        "id": "r3wq2fNM13K9"
      },
      "outputs": [],
      "source": [
        "top_ten = np.argsort(X[0])[::-1][0:10]"
      ]
    },
    {
      "cell_type": "code",
      "source": [
        "for i in top_ten:\n",
        "    print(labels[i])"
      ],
      "metadata": {
        "id": "HennBvpci9nR"
      },
      "execution_count": null,
      "outputs": []
    },
    {
      "cell_type": "markdown",
      "source": [
        "this gives the top 10 guesses"
      ],
      "metadata": {
        "id": "vggkgOKujChV"
      }
    },
    {
      "cell_type": "code",
      "source": [
        "labels"
      ],
      "metadata": {
        "id": "ksISpwCr9mKu"
      },
      "execution_count": null,
      "outputs": []
    },
    {
      "cell_type": "markdown",
      "source": [
        "the system takes a guess on the elements in the images. so far, it did its best LOL"
      ],
      "metadata": {
        "id": "opVk5Yoec63I"
      }
    },
    {
      "cell_type": "code",
      "source": [],
      "metadata": {
        "id": "9oGjtuAt9qOt"
      },
      "execution_count": null,
      "outputs": []
    },
    {
      "cell_type": "code",
      "source": [
        "labels[844],labels[662],labels[629]"
      ],
      "metadata": {
        "id": "Fjl6IB17-Dd-"
      },
      "execution_count": null,
      "outputs": []
    },
    {
      "cell_type": "markdown",
      "source": [
        "a test of returning the different names produced by the system"
      ],
      "metadata": {
        "id": "cthAIdqtjQGH"
      }
    },
    {
      "cell_type": "code",
      "execution_count": null,
      "metadata": {
        "id": "cetMFwBQngCQ"
      },
      "outputs": [],
      "source": [
        "plt.hist(X[0])"
      ]
    },
    {
      "cell_type": "markdown",
      "source": [
        "provides the value of the first elements in the list"
      ],
      "metadata": {
        "id": "nz3xFeUsjbba"
      }
    },
    {
      "cell_type": "code",
      "source": [],
      "metadata": {
        "id": "LeGfOfBy2sxc"
      },
      "execution_count": null,
      "outputs": []
    },
    {
      "cell_type": "code",
      "execution_count": null,
      "metadata": {
        "id": "zBt4rsdIefV_"
      },
      "outputs": [],
      "source": [
        "X = GPU_data(X)\n",
        "Y = GPU_data(Y)"
      ]
    },
    {
      "cell_type": "markdown",
      "source": [
        "converting X and Y into a format that can  be processed by a graphics processing unit"
      ],
      "metadata": {
        "id": "9LEtcbH6l-If"
      }
    },
    {
      "cell_type": "code",
      "execution_count": null,
      "metadata": {
        "id": "m4BlYG-CgC2z"
      },
      "outputs": [],
      "source": [
        "def softmax(x):\n",
        "    s1 = torch.exp(x - torch.max(x,1)[0][:,None])\n",
        "    s = s1 / s1.sum(1)[:,None]\n",
        "    return s"
      ]
    },
    {
      "cell_type": "markdown",
      "source": [
        "calculate the softmax of an input and convert probabilties to 1 ??"
      ],
      "metadata": {
        "id": "SXPqZfSeoFc3"
      }
    },
    {
      "cell_type": "code",
      "execution_count": null,
      "metadata": {
        "id": "XZ-UV8W_c_9o"
      },
      "outputs": [],
      "source": [
        "def cross_entropy(outputs, labels):            \n",
        "    return -torch.sum(softmax(outputs).log()[range(outputs.size()[0]), labels.long()])/outputs.size()[0]  "
      ]
    },
    {
      "cell_type": "code",
      "execution_count": null,
      "metadata": {
        "id": "wtL1kZcZICVP"
      },
      "outputs": [],
      "source": [
        "def randn_trunc(s): #Truncated Normal Random Numbers\n",
        "    mu = 0 \n",
        "    sigma = 0.1\n",
        "    R = stats.truncnorm((-2*sigma - mu) / sigma, (2*sigma - mu) / sigma, loc=mu, scale=sigma)\n",
        "    return R.rvs(s)"
      ]
    },
    {
      "cell_type": "code",
      "execution_count": null,
      "metadata": {
        "id": "wPQjN4JwYHAz"
      },
      "outputs": [],
      "source": [
        "def Truncated_Normal(size):\n",
        "\n",
        "    u1 = torch.rand(size)*(1-np.exp(-2)) + np.exp(-2)\n",
        "    u2 = torch.rand(size)\n",
        "    z  = torch.sqrt(-2*torch.log(u1)) * torch.cos(2*np.pi*u2)\n",
        "\n",
        "    return z"
      ]
    },
    {
      "cell_type": "code",
      "execution_count": null,
      "metadata": {
        "id": "LW3ttVcq1sI9"
      },
      "outputs": [],
      "source": [
        "def acc(out,y):\n",
        "    with torch.no_grad():\n",
        "        return (torch.sum(torch.max(out,1)[1] == y).item())/y.shape[0]"
      ]
    },
    {
      "cell_type": "code",
      "execution_count": null,
      "metadata": {
        "id": "5UXgio04fyvz"
      },
      "outputs": [],
      "source": [
        "X.shape"
      ]
    },
    {
      "cell_type": "code",
      "execution_count": null,
      "metadata": {
        "id": "x79Sie8XKPOC"
      },
      "outputs": [],
      "source": [
        "def get_batch(mode):\n",
        "    b = c.b\n",
        "    if mode == \"train\":\n",
        "        r = np.random.randint(X.shape[0]-b) \n",
        "        x = X[r:r+b,:]\n",
        "        y = Y[r:r+b]\n",
        "    elif mode == \"test\":\n",
        "        r = np.random.randint(X_test.shape[0]-b)\n",
        "        x = X_test[r:r+b,:]\n",
        "        y = Y_test[r:r+b]\n",
        "    return x,y"
      ]
    },
    {
      "cell_type": "markdown",
      "source": [
        "returning the image data for testing??"
      ],
      "metadata": {
        "id": "sbqZPgPzsNrC"
      }
    },
    {
      "cell_type": "code",
      "execution_count": null,
      "metadata": {
        "id": "vXOr9aM8A8P-"
      },
      "outputs": [],
      "source": [
        "def model(x,w):\n",
        "\n",
        "    return x@w[0]"
      ]
    },
    {
      "cell_type": "code",
      "execution_count": null,
      "metadata": {
        "id": "uzRsuDek9Fve"
      },
      "outputs": [],
      "source": [
        "def make_plots():\n",
        "    \n",
        "    acc_train = acc(model(x,w),y)\n",
        "    \n",
        "    # xt,yt = get_batch('test')\n",
        "\n",
        "    # acc_test = acc(model(xt,w),yt)\n",
        "\n",
        "    wb.log({\"acc_train\": acc_train})"
      ]
    },
    {
      "cell_type": "markdown",
      "source": [
        "calculates accuracy "
      ],
      "metadata": {
        "id": "a4COpJVNtpL_"
      }
    },
    {
      "cell_type": "code",
      "execution_count": null,
      "metadata": {
        "id": "WANJibeUNghZ"
      },
      "outputs": [],
      "source": [
        "wb.init(project=\"Linear_Model_Photo_1\");\n",
        "c = wb.config\n",
        "\n",
        "c.h = 0.001\n",
        "c.b = 32\n",
        "c.epochs = 100000\n",
        "\n",
        "w = [GPU(Truncated_Normal((1000,2)))]\n",
        "\n",
        "optimizer = torch.optim.Adam(w, lr=c.h)  \n",
        "\n",
        "for i in range(c.epochs):\n",
        "\n",
        "    x,y = get_batch('train')\n",
        "\n",
        "    loss = cross_entropy(softmax(model(x,w)),y)\n",
        "\n",
        "    optimizer.zero_grad()\n",
        "    loss.backward()\n",
        "    optimizer.step()\n",
        "   \n",
        "    wb.log({\"loss\": loss})\n",
        "\n",
        "    make_plots()\n"
      ]
    },
    {
      "cell_type": "markdown",
      "metadata": {
        "id": "sI--oRHS7Olk"
      },
      "source": [
        "https://tensorspace.org/"
      ]
    },
    {
      "cell_type": "code",
      "execution_count": null,
      "metadata": {
        "id": "VGdS4Ccv3ToX"
      },
      "outputs": [],
      "source": [
        "import numpy as np\n",
        "import wandb"
      ]
    },
    {
      "cell_type": "markdown",
      "source": [
        "##sadly, i did not know how to report the runs properly but i did my best just to show documentation."
      ],
      "metadata": {
        "id": "KH16vKzvFN-t"
      }
    },
    {
      "cell_type": "code",
      "source": [
        "wandb.init()\n",
        "wandb.log({\"loss\": 0.78201}, commit=False)\n",
        "\n",
        "wandb.log({\"accuracy\": 0.3438})"
      ],
      "metadata": {
        "id": "-AM_Ww5BFwjm"
      },
      "execution_count": null,
      "outputs": []
    },
    {
      "cell_type": "code",
      "execution_count": null,
      "metadata": {
        "id": "M052UNm_OwV5"
      },
      "outputs": [],
      "source": [
        "wandb.init()\n",
        "wandb.log({\"loss\": 0.2}, commit=False)\n",
        "\n",
        "wandb.log({\"accuracy\": 0.8})"
      ]
    },
    {
      "cell_type": "code",
      "execution_count": null,
      "metadata": {
        "id": "-iAwNrgSOwX3"
      },
      "outputs": [],
      "source": [
        "wandb.init()\n",
        "wandb.log({\"loss\": 0.5008}, commit=False)\n",
        "\n",
        "wandb.log({\"accuracy\": 0.875})"
      ]
    },
    {
      "cell_type": "code",
      "execution_count": null,
      "metadata": {
        "id": "isgUmuudOwaP"
      },
      "outputs": [],
      "source": [
        "wandb.init()\n",
        "wandb.log({\"loss\": 0.782}, commit=False)\n",
        "\n",
        "wandb.log({\"accuracy\": 0.2813})"
      ]
    },
    {
      "cell_type": "code",
      "execution_count": null,
      "metadata": {
        "id": "44_in1VIjkRr"
      },
      "outputs": [],
      "source": []
    }
  ],
  "metadata": {
    "accelerator": "GPU",
    "colab": {
      "provenance": [],
      "include_colab_link": true
    },
    "gpuClass": "standard",
    "kernelspec": {
      "display_name": "Python 3",
      "name": "python3"
    },
    "language_info": {
      "name": "python"
    },
    "widgets": {
      "application/vnd.jupyter.widget-state+json": {
        "1b51c43ffa4d43469a8030f0099d6793": {
          "model_module": "@jupyter-widgets/controls",
          "model_name": "HBoxModel",
          "model_module_version": "1.5.0",
          "state": {
            "_dom_classes": [],
            "_model_module": "@jupyter-widgets/controls",
            "_model_module_version": "1.5.0",
            "_model_name": "HBoxModel",
            "_view_count": null,
            "_view_module": "@jupyter-widgets/controls",
            "_view_module_version": "1.5.0",
            "_view_name": "HBoxView",
            "box_style": "",
            "children": [
              "IPY_MODEL_0414b94859414e8d9ea38051a0ab5d0a",
              "IPY_MODEL_b91e6d524dc24458ae52a5392b1bc843",
              "IPY_MODEL_29bfba32cca84a1991b9e1e37c20bd14"
            ],
            "layout": "IPY_MODEL_ddce4cefb9234eb9b7d8a9325e8af760"
          }
        },
        "0414b94859414e8d9ea38051a0ab5d0a": {
          "model_module": "@jupyter-widgets/controls",
          "model_name": "HTMLModel",
          "model_module_version": "1.5.0",
          "state": {
            "_dom_classes": [],
            "_model_module": "@jupyter-widgets/controls",
            "_model_module_version": "1.5.0",
            "_model_name": "HTMLModel",
            "_view_count": null,
            "_view_module": "@jupyter-widgets/controls",
            "_view_module_version": "1.5.0",
            "_view_name": "HTMLView",
            "description": "",
            "description_tooltip": null,
            "layout": "IPY_MODEL_4fe0054aa0f44a1aa817279b2faf3c0c",
            "placeholder": "​",
            "style": "IPY_MODEL_cc403dad5be547ec92e8dd48a45b08a8",
            "value": "100%"
          }
        },
        "b91e6d524dc24458ae52a5392b1bc843": {
          "model_module": "@jupyter-widgets/controls",
          "model_name": "FloatProgressModel",
          "model_module_version": "1.5.0",
          "state": {
            "_dom_classes": [],
            "_model_module": "@jupyter-widgets/controls",
            "_model_module_version": "1.5.0",
            "_model_name": "FloatProgressModel",
            "_view_count": null,
            "_view_module": "@jupyter-widgets/controls",
            "_view_module_version": "1.5.0",
            "_view_name": "ProgressView",
            "bar_style": "success",
            "description": "",
            "description_tooltip": null,
            "layout": "IPY_MODEL_f7d8cdd25e404b059b77a1dd82727534",
            "max": 244408911,
            "min": 0,
            "orientation": "horizontal",
            "style": "IPY_MODEL_5dec0fef3b334307b62ec7ce664ed010",
            "value": 244408911
          }
        },
        "29bfba32cca84a1991b9e1e37c20bd14": {
          "model_module": "@jupyter-widgets/controls",
          "model_name": "HTMLModel",
          "model_module_version": "1.5.0",
          "state": {
            "_dom_classes": [],
            "_model_module": "@jupyter-widgets/controls",
            "_model_module_version": "1.5.0",
            "_model_name": "HTMLModel",
            "_view_count": null,
            "_view_module": "@jupyter-widgets/controls",
            "_view_module_version": "1.5.0",
            "_view_name": "HTMLView",
            "description": "",
            "description_tooltip": null,
            "layout": "IPY_MODEL_bbd3312c08be4792a9ef92b80fac437b",
            "placeholder": "​",
            "style": "IPY_MODEL_82cfb265937445bb9eb5c61efc31165e",
            "value": " 233M/233M [00:01&lt;00:00, 212MB/s]"
          }
        },
        "ddce4cefb9234eb9b7d8a9325e8af760": {
          "model_module": "@jupyter-widgets/base",
          "model_name": "LayoutModel",
          "model_module_version": "1.2.0",
          "state": {
            "_model_module": "@jupyter-widgets/base",
            "_model_module_version": "1.2.0",
            "_model_name": "LayoutModel",
            "_view_count": null,
            "_view_module": "@jupyter-widgets/base",
            "_view_module_version": "1.2.0",
            "_view_name": "LayoutView",
            "align_content": null,
            "align_items": null,
            "align_self": null,
            "border": null,
            "bottom": null,
            "display": null,
            "flex": null,
            "flex_flow": null,
            "grid_area": null,
            "grid_auto_columns": null,
            "grid_auto_flow": null,
            "grid_auto_rows": null,
            "grid_column": null,
            "grid_gap": null,
            "grid_row": null,
            "grid_template_areas": null,
            "grid_template_columns": null,
            "grid_template_rows": null,
            "height": null,
            "justify_content": null,
            "justify_items": null,
            "left": null,
            "margin": null,
            "max_height": null,
            "max_width": null,
            "min_height": null,
            "min_width": null,
            "object_fit": null,
            "object_position": null,
            "order": null,
            "overflow": null,
            "overflow_x": null,
            "overflow_y": null,
            "padding": null,
            "right": null,
            "top": null,
            "visibility": null,
            "width": null
          }
        },
        "4fe0054aa0f44a1aa817279b2faf3c0c": {
          "model_module": "@jupyter-widgets/base",
          "model_name": "LayoutModel",
          "model_module_version": "1.2.0",
          "state": {
            "_model_module": "@jupyter-widgets/base",
            "_model_module_version": "1.2.0",
            "_model_name": "LayoutModel",
            "_view_count": null,
            "_view_module": "@jupyter-widgets/base",
            "_view_module_version": "1.2.0",
            "_view_name": "LayoutView",
            "align_content": null,
            "align_items": null,
            "align_self": null,
            "border": null,
            "bottom": null,
            "display": null,
            "flex": null,
            "flex_flow": null,
            "grid_area": null,
            "grid_auto_columns": null,
            "grid_auto_flow": null,
            "grid_auto_rows": null,
            "grid_column": null,
            "grid_gap": null,
            "grid_row": null,
            "grid_template_areas": null,
            "grid_template_columns": null,
            "grid_template_rows": null,
            "height": null,
            "justify_content": null,
            "justify_items": null,
            "left": null,
            "margin": null,
            "max_height": null,
            "max_width": null,
            "min_height": null,
            "min_width": null,
            "object_fit": null,
            "object_position": null,
            "order": null,
            "overflow": null,
            "overflow_x": null,
            "overflow_y": null,
            "padding": null,
            "right": null,
            "top": null,
            "visibility": null,
            "width": null
          }
        },
        "cc403dad5be547ec92e8dd48a45b08a8": {
          "model_module": "@jupyter-widgets/controls",
          "model_name": "DescriptionStyleModel",
          "model_module_version": "1.5.0",
          "state": {
            "_model_module": "@jupyter-widgets/controls",
            "_model_module_version": "1.5.0",
            "_model_name": "DescriptionStyleModel",
            "_view_count": null,
            "_view_module": "@jupyter-widgets/base",
            "_view_module_version": "1.2.0",
            "_view_name": "StyleView",
            "description_width": ""
          }
        },
        "f7d8cdd25e404b059b77a1dd82727534": {
          "model_module": "@jupyter-widgets/base",
          "model_name": "LayoutModel",
          "model_module_version": "1.2.0",
          "state": {
            "_model_module": "@jupyter-widgets/base",
            "_model_module_version": "1.2.0",
            "_model_name": "LayoutModel",
            "_view_count": null,
            "_view_module": "@jupyter-widgets/base",
            "_view_module_version": "1.2.0",
            "_view_name": "LayoutView",
            "align_content": null,
            "align_items": null,
            "align_self": null,
            "border": null,
            "bottom": null,
            "display": null,
            "flex": null,
            "flex_flow": null,
            "grid_area": null,
            "grid_auto_columns": null,
            "grid_auto_flow": null,
            "grid_auto_rows": null,
            "grid_column": null,
            "grid_gap": null,
            "grid_row": null,
            "grid_template_areas": null,
            "grid_template_columns": null,
            "grid_template_rows": null,
            "height": null,
            "justify_content": null,
            "justify_items": null,
            "left": null,
            "margin": null,
            "max_height": null,
            "max_width": null,
            "min_height": null,
            "min_width": null,
            "object_fit": null,
            "object_position": null,
            "order": null,
            "overflow": null,
            "overflow_x": null,
            "overflow_y": null,
            "padding": null,
            "right": null,
            "top": null,
            "visibility": null,
            "width": null
          }
        },
        "5dec0fef3b334307b62ec7ce664ed010": {
          "model_module": "@jupyter-widgets/controls",
          "model_name": "ProgressStyleModel",
          "model_module_version": "1.5.0",
          "state": {
            "_model_module": "@jupyter-widgets/controls",
            "_model_module_version": "1.5.0",
            "_model_name": "ProgressStyleModel",
            "_view_count": null,
            "_view_module": "@jupyter-widgets/base",
            "_view_module_version": "1.2.0",
            "_view_name": "StyleView",
            "bar_color": null,
            "description_width": ""
          }
        },
        "bbd3312c08be4792a9ef92b80fac437b": {
          "model_module": "@jupyter-widgets/base",
          "model_name": "LayoutModel",
          "model_module_version": "1.2.0",
          "state": {
            "_model_module": "@jupyter-widgets/base",
            "_model_module_version": "1.2.0",
            "_model_name": "LayoutModel",
            "_view_count": null,
            "_view_module": "@jupyter-widgets/base",
            "_view_module_version": "1.2.0",
            "_view_name": "LayoutView",
            "align_content": null,
            "align_items": null,
            "align_self": null,
            "border": null,
            "bottom": null,
            "display": null,
            "flex": null,
            "flex_flow": null,
            "grid_area": null,
            "grid_auto_columns": null,
            "grid_auto_flow": null,
            "grid_auto_rows": null,
            "grid_column": null,
            "grid_gap": null,
            "grid_row": null,
            "grid_template_areas": null,
            "grid_template_columns": null,
            "grid_template_rows": null,
            "height": null,
            "justify_content": null,
            "justify_items": null,
            "left": null,
            "margin": null,
            "max_height": null,
            "max_width": null,
            "min_height": null,
            "min_width": null,
            "object_fit": null,
            "object_position": null,
            "order": null,
            "overflow": null,
            "overflow_x": null,
            "overflow_y": null,
            "padding": null,
            "right": null,
            "top": null,
            "visibility": null,
            "width": null
          }
        },
        "82cfb265937445bb9eb5c61efc31165e": {
          "model_module": "@jupyter-widgets/controls",
          "model_name": "DescriptionStyleModel",
          "model_module_version": "1.5.0",
          "state": {
            "_model_module": "@jupyter-widgets/controls",
            "_model_module_version": "1.5.0",
            "_model_name": "DescriptionStyleModel",
            "_view_count": null,
            "_view_module": "@jupyter-widgets/base",
            "_view_module_version": "1.2.0",
            "_view_name": "StyleView",
            "description_width": ""
          }
        }
      }
    }
  },
  "nbformat": 4,
  "nbformat_minor": 0
}