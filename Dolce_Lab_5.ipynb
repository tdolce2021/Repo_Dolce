{
  "nbformat": 4,
  "nbformat_minor": 0,
  "metadata": {
    "colab": {
      "provenance": [],
      "include_colab_link": true
    },
    "kernelspec": {
      "name": "python3",
      "display_name": "Python 3"
    },
    "language_info": {
      "name": "python"
    }
  },
  "cells": [
    {
      "cell_type": "markdown",
      "metadata": {
        "id": "view-in-github",
        "colab_type": "text"
      },
      "source": [
        "<a href=\"https://colab.research.google.com/github/tdolce2021/Repo_Dolce/blob/main/Dolce_Lab_5.ipynb\" target=\"_parent\"><img src=\"https://colab.research.google.com/assets/colab-badge.svg\" alt=\"Open In Colab\"/></a>"
      ]
    },
    {
      "cell_type": "markdown",
      "source": [
        "#Edit Form:\n",
        "\n",
        "https://docs.google.com/forms/d/1kKsf2-I2Ou88IGvu-KIWhqB_Uo5vjP-IUdzvu41zBMA/edit"
      ],
      "metadata": {
        "id": "0eVNLqiCurNy"
      }
    },
    {
      "cell_type": "markdown",
      "source": [
        "# Submit Form\n",
        "https://docs.google.com/forms/d/e/1FAIpQLScaLFt0ZEOTNEnD4qxEdKHN5dMk3ZGSaW6cPwKUaAPjxgI8kg/viewform?usp=sf_link"
      ],
      "metadata": {
        "id": "7GMjB4wsnlVK"
      }
    },
    {
      "cell_type": "markdown",
      "source": [
        "# Spreadsheet version of Form"
      ],
      "metadata": {
        "id": "1HuAP2L-nuCa"
      }
    },
    {
      "cell_type": "markdown",
      "source": [
        "https://docs.google.com/spreadsheets/d/1XJhAqJmvsQZ_7MiH7OMNV3Sqljy2clhZnOd6ry5JvRI/edit?usp=sharing"
      ],
      "metadata": {
        "id": "iW6EAZ7eppRh"
      }
    },
    {
      "cell_type": "markdown",
      "source": [
        "# Color Names\n",
        "https://matplotlib.org/stable/gallery/color/named_colors.html"
      ],
      "metadata": {
        "id": "W2pUtGA8yxgO"
      }
    },
    {
      "cell_type": "code",
      "execution_count": 1,
      "metadata": {
        "id": "q-tGyKkht2Au"
      },
      "outputs": [],
      "source": [
        "import pandas as pd\n",
        "import numpy as np\n",
        "import matplotlib.pyplot as plt\n",
        "def get_database(url):\n",
        "    url_head = \"https://docs.google.com/spreadsheets/d/\"\n",
        "    url_foot = \"/gviz/tq?tqx=out:csv&sheet=\"\n",
        "    url_body = url.split('/')[5]\n",
        "    sheet_name = \"1\"\n",
        "    url_csv = url_head + url_body + url_foot + sheet_name\n",
        "    df = pd.read_csv(url_csv, sep=',', skiprows=0)\n",
        "    return df"
      ]
    },
    {
      "cell_type": "code",
      "source": [
        "url = 'https://docs.google.com/spreadsheets/d/1XJhAqJmvsQZ_7MiH7OMNV3Sqljy2clhZnOd6ry5JvRI/edit?usp=sharing'"
      ],
      "metadata": {
        "id": "fc8aichguBRZ"
      },
      "execution_count": 2,
      "outputs": []
    },
    {
      "cell_type": "code",
      "source": [
        "data = get_database(url)"
      ],
      "metadata": {
        "id": "sFe18hEYuC9H"
      },
      "execution_count": 3,
      "outputs": []
    },
    {
      "cell_type": "code",
      "source": [
        "data"
      ],
      "metadata": {
        "colab": {
          "base_uri": "https://localhost:8080/",
          "height": 468
        },
        "id": "P4vYCpPeuHpX",
        "outputId": "3dab36fd-330b-4bc5-eef2-11f91abb9b22"
      },
      "execution_count": 4,
      "outputs": [
        {
          "output_type": "execute_result",
          "data": {
            "text/plain": [
              "              Timestamp Favorite genre of music Favorite rapper  \\\n",
              "0    8/28/2022 23:44:49                     NaN             NaN   \n",
              "1    8/28/2022 23:47:16                     NaN             NaN   \n",
              "2   10/10/2022 12:04:51                     NaN             NaN   \n",
              "3   10/10/2022 12:04:56                     NaN             NaN   \n",
              "4   10/10/2022 12:04:56                     NaN             NaN   \n",
              "..                  ...                     ...             ...   \n",
              "84   12/12/2022 1:11:13                     Rap        Lil Baby   \n",
              "85   12/12/2022 1:11:21               Classical           Kanye   \n",
              "86   12/12/2022 1:11:31                     Rap         Beyonce   \n",
              "87   12/12/2022 1:11:42                    Trap        Lil Baby   \n",
              "88   12/12/2022 1:11:53                     Rap           Lizzo   \n",
              "\n",
              "   Favorite award show             Fav song Unnamed: 5  Score Best 6 Man  \\\n",
              "0                  NaN                  NaN        NaN    NaN        NaN   \n",
              "1                  NaN                  NaN        NaN    NaN        NaN   \n",
              "2                  NaN                  NaN        NaN    NaN        NaN   \n",
              "3                  NaN                  NaN        NaN    NaN        NaN   \n",
              "4                  NaN                  NaN        NaN    NaN        NaN   \n",
              "..                 ...                  ...        ...    ...        ...   \n",
              "84          BET Awards     Vaccine by NoCap        NaN    NaN        NaN   \n",
              "85            Option 3    Free Mind by Tems        NaN    NaN        NaN   \n",
              "86          BET Awards    Free Mind by Tems        NaN    NaN        NaN   \n",
              "87            Option 3     Vaccine by NoCap        NaN    NaN        NaN   \n",
              "88          BET Awards  Umbrella by Rihanna        NaN    NaN        NaN   \n",
              "\n",
              "   Favorite Pet  Unnamed: 9  \n",
              "0          Blue         NaN  \n",
              "1           Red         NaN  \n",
              "2           Red         NaN  \n",
              "3         Green         NaN  \n",
              "4         Green         NaN  \n",
              "..          ...         ...  \n",
              "84          NaN         NaN  \n",
              "85          NaN         NaN  \n",
              "86          NaN         NaN  \n",
              "87          NaN         NaN  \n",
              "88          NaN         NaN  \n",
              "\n",
              "[89 rows x 10 columns]"
            ],
            "text/html": [
              "\n",
              "  <div id=\"df-370a9d79-2d5b-4d86-b0ca-e808d9a84b5b\">\n",
              "    <div class=\"colab-df-container\">\n",
              "      <div>\n",
              "<style scoped>\n",
              "    .dataframe tbody tr th:only-of-type {\n",
              "        vertical-align: middle;\n",
              "    }\n",
              "\n",
              "    .dataframe tbody tr th {\n",
              "        vertical-align: top;\n",
              "    }\n",
              "\n",
              "    .dataframe thead th {\n",
              "        text-align: right;\n",
              "    }\n",
              "</style>\n",
              "<table border=\"1\" class=\"dataframe\">\n",
              "  <thead>\n",
              "    <tr style=\"text-align: right;\">\n",
              "      <th></th>\n",
              "      <th>Timestamp</th>\n",
              "      <th>Favorite genre of music</th>\n",
              "      <th>Favorite rapper</th>\n",
              "      <th>Favorite award show</th>\n",
              "      <th>Fav song</th>\n",
              "      <th>Unnamed: 5</th>\n",
              "      <th>Score</th>\n",
              "      <th>Best 6 Man</th>\n",
              "      <th>Favorite Pet</th>\n",
              "      <th>Unnamed: 9</th>\n",
              "    </tr>\n",
              "  </thead>\n",
              "  <tbody>\n",
              "    <tr>\n",
              "      <th>0</th>\n",
              "      <td>8/28/2022 23:44:49</td>\n",
              "      <td>NaN</td>\n",
              "      <td>NaN</td>\n",
              "      <td>NaN</td>\n",
              "      <td>NaN</td>\n",
              "      <td>NaN</td>\n",
              "      <td>NaN</td>\n",
              "      <td>NaN</td>\n",
              "      <td>Blue</td>\n",
              "      <td>NaN</td>\n",
              "    </tr>\n",
              "    <tr>\n",
              "      <th>1</th>\n",
              "      <td>8/28/2022 23:47:16</td>\n",
              "      <td>NaN</td>\n",
              "      <td>NaN</td>\n",
              "      <td>NaN</td>\n",
              "      <td>NaN</td>\n",
              "      <td>NaN</td>\n",
              "      <td>NaN</td>\n",
              "      <td>NaN</td>\n",
              "      <td>Red</td>\n",
              "      <td>NaN</td>\n",
              "    </tr>\n",
              "    <tr>\n",
              "      <th>2</th>\n",
              "      <td>10/10/2022 12:04:51</td>\n",
              "      <td>NaN</td>\n",
              "      <td>NaN</td>\n",
              "      <td>NaN</td>\n",
              "      <td>NaN</td>\n",
              "      <td>NaN</td>\n",
              "      <td>NaN</td>\n",
              "      <td>NaN</td>\n",
              "      <td>Red</td>\n",
              "      <td>NaN</td>\n",
              "    </tr>\n",
              "    <tr>\n",
              "      <th>3</th>\n",
              "      <td>10/10/2022 12:04:56</td>\n",
              "      <td>NaN</td>\n",
              "      <td>NaN</td>\n",
              "      <td>NaN</td>\n",
              "      <td>NaN</td>\n",
              "      <td>NaN</td>\n",
              "      <td>NaN</td>\n",
              "      <td>NaN</td>\n",
              "      <td>Green</td>\n",
              "      <td>NaN</td>\n",
              "    </tr>\n",
              "    <tr>\n",
              "      <th>4</th>\n",
              "      <td>10/10/2022 12:04:56</td>\n",
              "      <td>NaN</td>\n",
              "      <td>NaN</td>\n",
              "      <td>NaN</td>\n",
              "      <td>NaN</td>\n",
              "      <td>NaN</td>\n",
              "      <td>NaN</td>\n",
              "      <td>NaN</td>\n",
              "      <td>Green</td>\n",
              "      <td>NaN</td>\n",
              "    </tr>\n",
              "    <tr>\n",
              "      <th>...</th>\n",
              "      <td>...</td>\n",
              "      <td>...</td>\n",
              "      <td>...</td>\n",
              "      <td>...</td>\n",
              "      <td>...</td>\n",
              "      <td>...</td>\n",
              "      <td>...</td>\n",
              "      <td>...</td>\n",
              "      <td>...</td>\n",
              "      <td>...</td>\n",
              "    </tr>\n",
              "    <tr>\n",
              "      <th>84</th>\n",
              "      <td>12/12/2022 1:11:13</td>\n",
              "      <td>Rap</td>\n",
              "      <td>Lil Baby</td>\n",
              "      <td>BET Awards</td>\n",
              "      <td>Vaccine by NoCap</td>\n",
              "      <td>NaN</td>\n",
              "      <td>NaN</td>\n",
              "      <td>NaN</td>\n",
              "      <td>NaN</td>\n",
              "      <td>NaN</td>\n",
              "    </tr>\n",
              "    <tr>\n",
              "      <th>85</th>\n",
              "      <td>12/12/2022 1:11:21</td>\n",
              "      <td>Classical</td>\n",
              "      <td>Kanye</td>\n",
              "      <td>Option 3</td>\n",
              "      <td>Free Mind by Tems</td>\n",
              "      <td>NaN</td>\n",
              "      <td>NaN</td>\n",
              "      <td>NaN</td>\n",
              "      <td>NaN</td>\n",
              "      <td>NaN</td>\n",
              "    </tr>\n",
              "    <tr>\n",
              "      <th>86</th>\n",
              "      <td>12/12/2022 1:11:31</td>\n",
              "      <td>Rap</td>\n",
              "      <td>Beyonce</td>\n",
              "      <td>BET Awards</td>\n",
              "      <td>Free Mind by Tems</td>\n",
              "      <td>NaN</td>\n",
              "      <td>NaN</td>\n",
              "      <td>NaN</td>\n",
              "      <td>NaN</td>\n",
              "      <td>NaN</td>\n",
              "    </tr>\n",
              "    <tr>\n",
              "      <th>87</th>\n",
              "      <td>12/12/2022 1:11:42</td>\n",
              "      <td>Trap</td>\n",
              "      <td>Lil Baby</td>\n",
              "      <td>Option 3</td>\n",
              "      <td>Vaccine by NoCap</td>\n",
              "      <td>NaN</td>\n",
              "      <td>NaN</td>\n",
              "      <td>NaN</td>\n",
              "      <td>NaN</td>\n",
              "      <td>NaN</td>\n",
              "    </tr>\n",
              "    <tr>\n",
              "      <th>88</th>\n",
              "      <td>12/12/2022 1:11:53</td>\n",
              "      <td>Rap</td>\n",
              "      <td>Lizzo</td>\n",
              "      <td>BET Awards</td>\n",
              "      <td>Umbrella by Rihanna</td>\n",
              "      <td>NaN</td>\n",
              "      <td>NaN</td>\n",
              "      <td>NaN</td>\n",
              "      <td>NaN</td>\n",
              "      <td>NaN</td>\n",
              "    </tr>\n",
              "  </tbody>\n",
              "</table>\n",
              "<p>89 rows × 10 columns</p>\n",
              "</div>\n",
              "      <button class=\"colab-df-convert\" onclick=\"convertToInteractive('df-370a9d79-2d5b-4d86-b0ca-e808d9a84b5b')\"\n",
              "              title=\"Convert this dataframe to an interactive table.\"\n",
              "              style=\"display:none;\">\n",
              "        \n",
              "  <svg xmlns=\"http://www.w3.org/2000/svg\" height=\"24px\"viewBox=\"0 0 24 24\"\n",
              "       width=\"24px\">\n",
              "    <path d=\"M0 0h24v24H0V0z\" fill=\"none\"/>\n",
              "    <path d=\"M18.56 5.44l.94 2.06.94-2.06 2.06-.94-2.06-.94-.94-2.06-.94 2.06-2.06.94zm-11 1L8.5 8.5l.94-2.06 2.06-.94-2.06-.94L8.5 2.5l-.94 2.06-2.06.94zm10 10l.94 2.06.94-2.06 2.06-.94-2.06-.94-.94-2.06-.94 2.06-2.06.94z\"/><path d=\"M17.41 7.96l-1.37-1.37c-.4-.4-.92-.59-1.43-.59-.52 0-1.04.2-1.43.59L10.3 9.45l-7.72 7.72c-.78.78-.78 2.05 0 2.83L4 21.41c.39.39.9.59 1.41.59.51 0 1.02-.2 1.41-.59l7.78-7.78 2.81-2.81c.8-.78.8-2.07 0-2.86zM5.41 20L4 18.59l7.72-7.72 1.47 1.35L5.41 20z\"/>\n",
              "  </svg>\n",
              "      </button>\n",
              "      \n",
              "  <style>\n",
              "    .colab-df-container {\n",
              "      display:flex;\n",
              "      flex-wrap:wrap;\n",
              "      gap: 12px;\n",
              "    }\n",
              "\n",
              "    .colab-df-convert {\n",
              "      background-color: #E8F0FE;\n",
              "      border: none;\n",
              "      border-radius: 50%;\n",
              "      cursor: pointer;\n",
              "      display: none;\n",
              "      fill: #1967D2;\n",
              "      height: 32px;\n",
              "      padding: 0 0 0 0;\n",
              "      width: 32px;\n",
              "    }\n",
              "\n",
              "    .colab-df-convert:hover {\n",
              "      background-color: #E2EBFA;\n",
              "      box-shadow: 0px 1px 2px rgba(60, 64, 67, 0.3), 0px 1px 3px 1px rgba(60, 64, 67, 0.15);\n",
              "      fill: #174EA6;\n",
              "    }\n",
              "\n",
              "    [theme=dark] .colab-df-convert {\n",
              "      background-color: #3B4455;\n",
              "      fill: #D2E3FC;\n",
              "    }\n",
              "\n",
              "    [theme=dark] .colab-df-convert:hover {\n",
              "      background-color: #434B5C;\n",
              "      box-shadow: 0px 1px 3px 1px rgba(0, 0, 0, 0.15);\n",
              "      filter: drop-shadow(0px 1px 2px rgba(0, 0, 0, 0.3));\n",
              "      fill: #FFFFFF;\n",
              "    }\n",
              "  </style>\n",
              "\n",
              "      <script>\n",
              "        const buttonEl =\n",
              "          document.querySelector('#df-370a9d79-2d5b-4d86-b0ca-e808d9a84b5b button.colab-df-convert');\n",
              "        buttonEl.style.display =\n",
              "          google.colab.kernel.accessAllowed ? 'block' : 'none';\n",
              "\n",
              "        async function convertToInteractive(key) {\n",
              "          const element = document.querySelector('#df-370a9d79-2d5b-4d86-b0ca-e808d9a84b5b');\n",
              "          const dataTable =\n",
              "            await google.colab.kernel.invokeFunction('convertToInteractive',\n",
              "                                                     [key], {});\n",
              "          if (!dataTable) return;\n",
              "\n",
              "          const docLinkHtml = 'Like what you see? Visit the ' +\n",
              "            '<a target=\"_blank\" href=https://colab.research.google.com/notebooks/data_table.ipynb>data table notebook</a>'\n",
              "            + ' to learn more about interactive tables.';\n",
              "          element.innerHTML = '';\n",
              "          dataTable['output_type'] = 'display_data';\n",
              "          await google.colab.output.renderOutput(dataTable, element);\n",
              "          const docLink = document.createElement('div');\n",
              "          docLink.innerHTML = docLinkHtml;\n",
              "          element.appendChild(docLink);\n",
              "        }\n",
              "      </script>\n",
              "    </div>\n",
              "  </div>\n",
              "  "
            ]
          },
          "metadata": {},
          "execution_count": 4
        }
      ]
    },
    {
      "cell_type": "markdown",
      "source": [
        "data from custom spreadsheet. url was used to extract info\n"
      ],
      "metadata": {
        "id": "-kUFyEyk-I-0"
      }
    },
    {
      "cell_type": "code",
      "source": [
        "data = np.array(data)"
      ],
      "metadata": {
        "id": "405OIu0auIDH"
      },
      "execution_count": 5,
      "outputs": []
    },
    {
      "cell_type": "code",
      "source": [
        "data"
      ],
      "metadata": {
        "colab": {
          "base_uri": "https://localhost:8080/"
        },
        "id": "_KJVMisrvs-G",
        "outputId": "5e442d5c-0e91-4321-f10e-1ea7a4922b8d"
      },
      "execution_count": 6,
      "outputs": [
        {
          "output_type": "execute_result",
          "data": {
            "text/plain": [
              "array([['8/28/2022 23:44:49', nan, nan, nan, nan, nan, nan, nan, 'Blue',\n",
              "        nan],\n",
              "       ['8/28/2022 23:47:16', nan, nan, nan, nan, nan, nan, nan, 'Red',\n",
              "        nan],\n",
              "       ['10/10/2022 12:04:51', nan, nan, nan, nan, nan, nan, nan, 'Red',\n",
              "        nan],\n",
              "       ['10/10/2022 12:04:56', nan, nan, nan, nan, nan, nan, nan,\n",
              "        'Green', nan],\n",
              "       ['10/10/2022 12:04:56', nan, nan, nan, nan, nan, nan, nan,\n",
              "        'Green', nan],\n",
              "       ['10/10/2022 12:04:59', nan, nan, nan, nan, nan, nan, nan, 'Blue',\n",
              "        nan],\n",
              "       ['10/10/2022 12:05:05', nan, nan, nan, nan, nan, nan, nan, 'Pink',\n",
              "        nan],\n",
              "       ['10/10/2022 12:05:09', nan, nan, nan, nan, nan, nan, nan,\n",
              "        'Purple', nan],\n",
              "       ['10/10/2022 12:05:23', nan, nan, nan, nan, nan, nan, nan, 'Blue',\n",
              "        nan],\n",
              "       ['10/10/2022 12:05:24', nan, nan, nan, nan, nan, nan, nan, 'Pink',\n",
              "        nan],\n",
              "       ['10/10/2022 12:05:26', nan, nan, nan, nan, nan, nan, nan, 'Pink',\n",
              "        nan],\n",
              "       ['10/10/2022 12:05:29', nan, nan, nan, nan, nan, nan, nan, 'Blue',\n",
              "        nan],\n",
              "       ['10/10/2022 12:05:30', nan, nan, nan, nan, nan, nan, nan, 'Blue',\n",
              "        nan],\n",
              "       ['10/10/2022 12:05:35', nan, nan, nan, nan, nan, nan, nan, 'Blue',\n",
              "        nan],\n",
              "       ['10/10/2022 12:05:39', nan, nan, nan, nan, nan, nan, nan, 'Red',\n",
              "        nan],\n",
              "       ['10/10/2022 12:05:40', nan, nan, nan, nan, nan, nan, nan, 'Red',\n",
              "        nan],\n",
              "       ['10/10/2022 12:05:40', nan, nan, nan, nan, nan, nan, nan, 'Blue',\n",
              "        nan],\n",
              "       ['10/10/2022 12:05:48', nan, nan, nan, nan, nan, nan, nan,\n",
              "        'Purple', nan],\n",
              "       ['10/10/2022 12:05:48', nan, nan, nan, nan, nan, nan, nan,\n",
              "        'Green', nan],\n",
              "       ['10/10/2022 12:06:04', nan, nan, nan, nan, nan, nan, nan,\n",
              "        'Green', nan],\n",
              "       ['10/10/2022 12:06:08', nan, nan, nan, nan, nan, nan, nan, 'Blue',\n",
              "        nan],\n",
              "       ['10/10/2022 12:06:10', nan, nan, nan, nan, nan, nan, nan, 'Pink',\n",
              "        nan],\n",
              "       ['10/10/2022 12:06:15', nan, nan, nan, nan, nan, nan, nan, 'Blue',\n",
              "        nan],\n",
              "       ['10/10/2022 12:06:18', nan, nan, nan, nan, nan, nan, nan,\n",
              "        'Purple', nan],\n",
              "       ['10/10/2022 12:06:19', nan, nan, nan, nan, nan, nan, nan, 'Blue',\n",
              "        nan],\n",
              "       ['10/10/2022 12:06:34', nan, nan, nan, nan, nan, nan, nan,\n",
              "        'Purple', nan],\n",
              "       ['10/10/2022 12:06:35', nan, nan, nan, nan, nan, nan, nan, 'Pink',\n",
              "        nan],\n",
              "       ['10/10/2022 12:07:03', nan, nan, nan, nan, nan, nan, nan, 'Pink',\n",
              "        nan],\n",
              "       ['10/10/2022 12:07:03', nan, nan, nan, nan, nan, nan, nan,\n",
              "        'Purple', nan],\n",
              "       ['10/10/2022 12:07:21', nan, nan, nan, nan, nan, nan, nan, 'Blue',\n",
              "        nan],\n",
              "       ['10/10/2022 12:07:24', nan, nan, nan, nan, nan, nan, nan,\n",
              "        'Purple', nan],\n",
              "       ['10/10/2022 12:07:32', nan, nan, nan, nan, nan, nan, nan, 'Red',\n",
              "        nan],\n",
              "       ['10/10/2022 12:07:41', nan, nan, nan, nan, nan, nan, nan,\n",
              "        'Green', nan],\n",
              "       ['10/10/2022 12:08:22', nan, nan, nan, nan, nan, nan, nan, 'Blue',\n",
              "        nan],\n",
              "       ['10/10/2022 12:08:24', nan, nan, nan, nan, nan, nan, nan,\n",
              "        'Green', nan],\n",
              "       ['10/10/2022 12:13:03', nan, nan, nan, nan, nan, nan, nan, 'Blue',\n",
              "        nan],\n",
              "       ['10/10/2022 12:14:34', nan, nan, nan, nan, nan, nan, nan, 'Red',\n",
              "        nan],\n",
              "       ['10/10/2022 12:15:17', nan, nan, nan, nan, nan, nan, nan,\n",
              "        'Purple', nan],\n",
              "       ['10/10/2022 12:15:19', nan, nan, nan, nan, nan, nan, nan, 'Blue',\n",
              "        nan],\n",
              "       ['10/19/2022 15:01:24', nan, nan, nan, nan, nan, nan, nan, 'Bowl',\n",
              "        nan],\n",
              "       ['10/19/2022 22:18:35', nan, nan, nan, nan, nan, nan, nan,\n",
              "        'placemat', nan],\n",
              "       ['10/20/2022 0:50:13', nan, nan, nan, nan, nan, nan, nan, 'Dog',\n",
              "        nan],\n",
              "       ['10/20/2022 1:23:24', 'Fish', nan, nan, nan, nan, nan, nan, nan,\n",
              "        nan],\n",
              "       ['10/20/2022 1:23:29', 'Dog', nan, nan, nan, nan, nan, nan, nan,\n",
              "        nan],\n",
              "       ['10/20/2022 1:24:16', 'Hamster', nan, nan, nan, nan, nan, nan,\n",
              "        nan, nan],\n",
              "       ['10/20/2022 1:24:21', 'Cat', nan, nan, nan, nan, nan, nan, nan,\n",
              "        nan],\n",
              "       ['10/20/2022 1:24:25', 'Lizard', nan, nan, nan, nan, nan, nan,\n",
              "        nan, nan],\n",
              "       ['10/20/2022 1:24:28', 'Dog', nan, nan, nan, nan, nan, nan, nan,\n",
              "        nan],\n",
              "       ['10/20/2022 1:24:32', 'Lizard', nan, nan, nan, nan, nan, nan,\n",
              "        nan, nan],\n",
              "       ['10/20/2022 1:24:37', 'Dog', nan, nan, nan, nan, nan, nan, nan,\n",
              "        nan],\n",
              "       ['10/20/2022 1:24:40', 'Dog', nan, nan, nan, nan, nan, nan, nan,\n",
              "        nan],\n",
              "       ['10/20/2022 1:24:45', 'Cat', nan, nan, nan, nan, nan, nan, nan,\n",
              "        nan],\n",
              "       ['10/20/2022 1:24:48', 'Bird', nan, nan, nan, nan, nan, nan, nan,\n",
              "        nan],\n",
              "       ['10/20/2022 1:24:52', 'Dog', nan, nan, nan, nan, nan, nan, nan,\n",
              "        nan],\n",
              "       ['10/20/2022 1:24:56', 'Fish', nan, nan, nan, nan, nan, nan, nan,\n",
              "        nan],\n",
              "       ['10/20/2022 1:25:18', 'Bird', nan, nan, nan, nan, nan, nan, nan,\n",
              "        nan],\n",
              "       ['10/20/2022 1:25:30', 'Dog', nan, nan, nan, nan, nan, nan, nan,\n",
              "        nan],\n",
              "       ['10/20/2022 1:25:33', 'Dog', nan, nan, nan, nan, nan, nan, nan,\n",
              "        nan],\n",
              "       ['10/20/2022 1:25:37', 'Cat', nan, nan, nan, nan, nan, nan, nan,\n",
              "        nan],\n",
              "       ['10/20/2022 1:25:41', 'Cat', nan, nan, nan, nan, nan, nan, nan,\n",
              "        nan],\n",
              "       ['10/20/2022 1:25:45', 'Lizard', nan, nan, nan, nan, nan, nan,\n",
              "        nan, nan],\n",
              "       ['10/20/2022 1:25:49', 'Hamster', nan, nan, nan, nan, nan, nan,\n",
              "        nan, nan],\n",
              "       ['10/20/2022 1:25:53', 'Fish', nan, nan, nan, nan, nan, nan, nan,\n",
              "        nan],\n",
              "       ['10/20/2022 23:20:28', 'Dog', nan, nan, nan, nan, nan, nan, nan,\n",
              "        nan],\n",
              "       ['10/24/2022 14:25:53', 'Rap', nan, nan, nan, nan, nan, nan, nan,\n",
              "        nan],\n",
              "       ['10/25/2022 18:41:44', 'Country', nan, nan, nan, nan, nan, nan,\n",
              "        nan, nan],\n",
              "       ['10/25/2022 22:00:30', 'chocolate', nan, nan, nan, nan, nan, nan,\n",
              "        nan, nan],\n",
              "       ['10/26/2022 14:06:36', 'mint chocolate chip', nan, nan, nan, nan,\n",
              "        nan, nan, nan, nan],\n",
              "       ['10/26/2022 15:27:11', 'strawberry', nan, nan, nan, nan, nan,\n",
              "        nan, nan, nan],\n",
              "       ['10/26/2022 17:16:12', nan, nan, nan, nan, nan, nan, nan, nan,\n",
              "        nan],\n",
              "       ['10/27/2022 11:01:09', '5', '26', nan, nan, nan, nan, nan, nan,\n",
              "        nan],\n",
              "       ['10/27/2022 11:01:15', '15', '26', nan, nan, nan, nan, nan, nan,\n",
              "        nan],\n",
              "       ['10/27/2022 11:01:20', '5', '24', nan, nan, nan, nan, nan, nan,\n",
              "        nan],\n",
              "       ['10/27/2022 11:55:48', '5', '15', nan, nan, nan, nan, nan, nan,\n",
              "        nan],\n",
              "       ['10/27/2022 12:28:41', 'Steph Curry', 'Allen Iverson',\n",
              "        'Julius Irving', 'Giannis Antetokounmpo', 'Shaquille Oneil', nan,\n",
              "        'Jamal Crawford', nan, nan],\n",
              "       ['10/27/2022 13:35:32', 'Magic Johnson', 'Kobe Bryant',\n",
              "        'Larry Bird', 'Giannis Antetokounmpo', 'Shaquille Oneil', nan,\n",
              "        'Jamal Crawford', nan, nan],\n",
              "       ['10/27/2022 18:27:54', 'chilis', 'soccer', '11 pm', nan,\n",
              "        'Zaza Pachulia', nan, nan, nan, nan],\n",
              "       ['10/27/2022 19:48:57', 'Cheese cake factory', 'football',\n",
              "        '11 pm', 'Bahamas', 'Zaza Pachulia', nan, nan, nan, nan],\n",
              "       ['10/27/2022 22:57:38', nan, nan, nan, nan, nan, nan, nan, nan,\n",
              "        nan],\n",
              "       ['12/11/2022 20:37:29', 'Diameter: 10', 'circumference: 26.89',\n",
              "        'diameter: 9.6', 'circumference: 50.27', 'diameter: 69', nan,\n",
              "        nan, nan, nan],\n",
              "       ['12/12/2022 1:08:44', 'Trap', 'Lil Baby', \"AMA's\",\n",
              "        'Free Mind by Tems', nan, nan, nan, nan, nan],\n",
              "       ['12/12/2022 1:08:56', 'Rap', 'Kanye', 'BET Awards',\n",
              "        'Vaccine by NoCap', nan, nan, nan, nan, nan],\n",
              "       ['12/12/2022 1:10:33', 'Trap', 'Lil Baby', \"AMA's\",\n",
              "        'Free Mind by Tems', nan, nan, nan, nan, nan],\n",
              "       ['12/12/2022 1:11:04', 'Jazz', 'Lil Baby', \"AMA's\",\n",
              "        'Umbrella by Rihanna', nan, nan, nan, nan, nan],\n",
              "       ['12/12/2022 1:11:13', 'Rap', 'Lil Baby', 'BET Awards',\n",
              "        'Vaccine by NoCap', nan, nan, nan, nan, nan],\n",
              "       ['12/12/2022 1:11:21', 'Classical', 'Kanye', 'Option 3',\n",
              "        'Free Mind by Tems', nan, nan, nan, nan, nan],\n",
              "       ['12/12/2022 1:11:31', 'Rap', 'Beyonce', 'BET Awards',\n",
              "        'Free Mind by Tems', nan, nan, nan, nan, nan],\n",
              "       ['12/12/2022 1:11:42', 'Trap', 'Lil Baby', 'Option 3',\n",
              "        'Vaccine by NoCap', nan, nan, nan, nan, nan],\n",
              "       ['12/12/2022 1:11:53', 'Rap', 'Lizzo', 'BET Awards',\n",
              "        'Umbrella by Rihanna', nan, nan, nan, nan, nan]], dtype=object)"
            ]
          },
          "metadata": {},
          "execution_count": 6
        }
      ]
    },
    {
      "cell_type": "markdown",
      "source": [
        "the variable 'data' was called to set information in a laid out, array, list style"
      ],
      "metadata": {
        "id": "fauugkGY9w0J"
      }
    },
    {
      "cell_type": "code",
      "source": [
        "data.shape"
      ],
      "metadata": {
        "colab": {
          "base_uri": "https://localhost:8080/"
        },
        "id": "bDnV7LcqqKJO",
        "outputId": "c62167db-04ca-4fd9-8ea2-9e07724a71bb"
      },
      "execution_count": 7,
      "outputs": [
        {
          "output_type": "execute_result",
          "data": {
            "text/plain": [
              "(89, 10)"
            ]
          },
          "metadata": {},
          "execution_count": 7
        }
      ]
    },
    {
      "cell_type": "code",
      "source": [
        "colors = data[:,1]"
      ],
      "metadata": {
        "id": "_81y4Z_pvwnC"
      },
      "execution_count": 8,
      "outputs": []
    },
    {
      "cell_type": "code",
      "source": [
        "colors"
      ],
      "metadata": {
        "colab": {
          "base_uri": "https://localhost:8080/"
        },
        "id": "DdRvwfeUv1Wr",
        "outputId": "7cfeb4fb-c33e-47ff-e19c-a886e1ea2613"
      },
      "execution_count": 9,
      "outputs": [
        {
          "output_type": "execute_result",
          "data": {
            "text/plain": [
              "array([nan, nan, nan, nan, nan, nan, nan, nan, nan, nan, nan, nan, nan,\n",
              "       nan, nan, nan, nan, nan, nan, nan, nan, nan, nan, nan, nan, nan,\n",
              "       nan, nan, nan, nan, nan, nan, nan, nan, nan, nan, nan, nan, nan,\n",
              "       nan, nan, nan, 'Fish', 'Dog', 'Hamster', 'Cat', 'Lizard', 'Dog',\n",
              "       'Lizard', 'Dog', 'Dog', 'Cat', 'Bird', 'Dog', 'Fish', 'Bird',\n",
              "       'Dog', 'Dog', 'Cat', 'Cat', 'Lizard', 'Hamster', 'Fish', 'Dog',\n",
              "       'Rap', 'Country', 'chocolate', 'mint chocolate chip', 'strawberry',\n",
              "       nan, '5', '15', '5', '5', 'Steph Curry', 'Magic Johnson', 'chilis',\n",
              "       'Cheese cake factory', nan, 'Diameter: 10', 'Trap', 'Rap', 'Trap',\n",
              "       'Jazz', 'Rap', 'Classical', 'Rap', 'Trap', 'Rap'], dtype=object)"
            ]
          },
          "metadata": {},
          "execution_count": 9
        }
      ]
    },
    {
      "cell_type": "markdown",
      "source": [
        "here, the colors were defined as the data"
      ],
      "metadata": {
        "id": "gMQG2i8T-0zt"
      }
    },
    {
      "cell_type": "code",
      "source": [
        "colors == 'Red'"
      ],
      "metadata": {
        "colab": {
          "base_uri": "https://localhost:8080/"
        },
        "id": "mzvCW4kYqe7m",
        "outputId": "02ca51bb-2787-452a-ba86-1a5d6f69f5c3"
      },
      "execution_count": 12,
      "outputs": [
        {
          "output_type": "execute_result",
          "data": {
            "text/plain": [
              "array([False, False, False, False, False, False, False, False, False,\n",
              "       False, False, False, False, False, False, False, False, False,\n",
              "       False, False, False, False, False, False, False, False, False,\n",
              "       False, False, False, False, False, False, False, False, False,\n",
              "       False, False, False, False, False, False, False, False, False,\n",
              "       False, False, False, False, False, False, False, False, False,\n",
              "       False, False, False, False, False, False, False, False, False,\n",
              "       False, False, False, False, False, False, False, False, False,\n",
              "       False, False, False, False, False, False, False, False, False,\n",
              "       False, False, False, False, False, False, False, False])"
            ]
          },
          "metadata": {},
          "execution_count": 12
        }
      ]
    },
    {
      "cell_type": "markdown",
      "source": [
        "color is being tested with the different data values. there is no red and it is all false"
      ],
      "metadata": {
        "id": "oAXNOWaQ_CSU"
      }
    },
    {
      "cell_type": "code",
      "source": [
        "colors == 'Dog'"
      ],
      "metadata": {
        "colab": {
          "base_uri": "https://localhost:8080/"
        },
        "id": "M3e4GqAB_4HE",
        "outputId": "a125edba-c5ef-48e7-ae8e-bbcd896d846d"
      },
      "execution_count": 13,
      "outputs": [
        {
          "output_type": "execute_result",
          "data": {
            "text/plain": [
              "array([False, False, False, False, False, False, False, False, False,\n",
              "       False, False, False, False, False, False, False, False, False,\n",
              "       False, False, False, False, False, False, False, False, False,\n",
              "       False, False, False, False, False, False, False, False, False,\n",
              "       False, False, False, False, False, False, False,  True, False,\n",
              "       False, False,  True, False,  True,  True, False, False,  True,\n",
              "       False, False,  True,  True, False, False, False, False, False,\n",
              "        True, False, False, False, False, False, False, False, False,\n",
              "       False, False, False, False, False, False, False, False, False,\n",
              "       False, False, False, False, False, False, False, False])"
            ]
          },
          "metadata": {},
          "execution_count": 13
        }
      ]
    },
    {
      "cell_type": "markdown",
      "source": [
        "there are a few true's because the word dog appeared in the data set"
      ],
      "metadata": {
        "id": "SMjz36PvABZl"
      }
    },
    {
      "cell_type": "code",
      "source": [
        "red_count = np.sum(colors == 'Red')"
      ],
      "metadata": {
        "id": "POEt2j5cv2CM"
      },
      "execution_count": 14,
      "outputs": []
    },
    {
      "cell_type": "code",
      "source": [
        "blue_count = np.sum(colors == 'Red')"
      ],
      "metadata": {
        "id": "JtcoqKGMv9LH"
      },
      "execution_count": 23,
      "outputs": []
    },
    {
      "cell_type": "code",
      "source": [
        "names = ['Red', 'Blue']\n",
        "values = [red_count, blue_count]\n",
        "\n",
        "plt.bar(names, values, color=['red', 'blue'])"
      ],
      "metadata": {
        "colab": {
          "base_uri": "https://localhost:8080/",
          "height": 282
        },
        "id": "-Z370D3OwLhL",
        "outputId": "a30c1e83-eabe-4bdb-8a36-9bd3fe7789f1"
      },
      "execution_count": 22,
      "outputs": [
        {
          "output_type": "execute_result",
          "data": {
            "text/plain": [
              "<BarContainer object of 2 artists>"
            ]
          },
          "metadata": {},
          "execution_count": 22
        },
        {
          "output_type": "display_data",
          "data": {
            "text/plain": [
              "<Figure size 432x288 with 1 Axes>"
            ],
            "image/png": "[encoded data removed]"
          },
          "metadata": {
            "needs_background": "light"
          }
        }
      ]
    },
    {
      "cell_type": "code",
      "source": [],
      "metadata": {
        "id": "NGo3bfFOwV3z"
      },
      "execution_count": null,
      "outputs": []
    },
    {
      "cell_type": "code",
      "source": [],
      "metadata": {
        "id": "m-4f2U80ywQs"
      },
      "execution_count": null,
      "outputs": []
    },
    {
      "cell_type": "markdown",
      "source": [
        "https://forms.gle/Pkq5dn39V63Jdu9q6\n",
        "\n",
        "\n"
      ],
      "metadata": {
        "id": "pGS734Qw_Lsy"
      }
    },
    {
      "cell_type": "code",
      "source": [
        "url = 'https://docs.google.com/spreadsheets/d/1NaqYAoKwbDhIvscnZw25CjRZS5zBTDgMZfxZbyttiMA/edit?usp=sharing'"
      ],
      "metadata": {
        "id": "RhZG-d4-pLeF"
      },
      "execution_count": 24,
      "outputs": []
    },
    {
      "cell_type": "code",
      "source": [
        "data = get_database(url)"
      ],
      "metadata": {
        "id": "n67aee0PpLeG"
      },
      "execution_count": 25,
      "outputs": []
    },
    {
      "cell_type": "code",
      "source": [
        "data"
      ],
      "metadata": {
        "colab": {
          "base_uri": "https://localhost:8080/",
          "height": 771
        },
        "outputId": "89cdf6cf-c5d0-4058-b76d-885be5ba6e34",
        "id": "oCidiQiMpLeH"
      },
      "execution_count": 26,
      "outputs": [
        {
          "output_type": "execute_result",
          "data": {
            "text/plain": [
              "              Timestamp What is your major?\n",
              "0   10/10/2022 12:14:04           Marketing\n",
              "1   10/10/2022 12:14:23          Accounting\n",
              "2   10/10/2022 12:14:24                Math\n",
              "3   10/10/2022 12:14:24            Business\n",
              "4   10/10/2022 12:14:26            Business\n",
              "5   10/10/2022 12:14:28          Accounting\n",
              "6   10/10/2022 12:14:28          Accounting\n",
              "7   10/10/2022 12:14:30      Health Science\n",
              "8   10/10/2022 12:14:31      Health Science\n",
              "9   10/10/2022 12:14:33    Criminal Justice\n",
              "10  10/10/2022 12:14:35    Exercise Science\n",
              "11  10/10/2022 12:14:36      Health Science\n",
              "12  10/10/2022 12:14:38           Marketing\n",
              "13  10/10/2022 12:14:38             Geology\n",
              "14  10/10/2022 12:14:58      Health Science\n",
              "15  10/10/2022 12:15:02    Exercise Science\n",
              "16  10/10/2022 12:15:13             Geology\n",
              "17  10/10/2022 12:15:38             Finance\n",
              "18  10/10/2022 12:15:50    Computer Science\n",
              "19  10/10/2022 12:16:04             Finance\n",
              "20  10/10/2022 12:16:09           Marketing\n",
              "21  10/10/2022 12:18:15           Marketing\n",
              "22  12/11/2022 13:17:08           Marketing"
            ],
            "text/html": [
              "\n",
              "  <div id=\"df-dc7b3254-d14d-48df-8989-dd907c35f4d6\">\n",
              "    <div class=\"colab-df-container\">\n",
              "      <div>\n",
              "<style scoped>\n",
              "    .dataframe tbody tr th:only-of-type {\n",
              "        vertical-align: middle;\n",
              "    }\n",
              "\n",
              "    .dataframe tbody tr th {\n",
              "        vertical-align: top;\n",
              "    }\n",
              "\n",
              "    .dataframe thead th {\n",
              "        text-align: right;\n",
              "    }\n",
              "</style>\n",
              "<table border=\"1\" class=\"dataframe\">\n",
              "  <thead>\n",
              "    <tr style=\"text-align: right;\">\n",
              "      <th></th>\n",
              "      <th>Timestamp</th>\n",
              "      <th>What is your major?</th>\n",
              "    </tr>\n",
              "  </thead>\n",
              "  <tbody>\n",
              "    <tr>\n",
              "      <th>0</th>\n",
              "      <td>10/10/2022 12:14:04</td>\n",
              "      <td>Marketing</td>\n",
              "    </tr>\n",
              "    <tr>\n",
              "      <th>1</th>\n",
              "      <td>10/10/2022 12:14:23</td>\n",
              "      <td>Accounting</td>\n",
              "    </tr>\n",
              "    <tr>\n",
              "      <th>2</th>\n",
              "      <td>10/10/2022 12:14:24</td>\n",
              "      <td>Math</td>\n",
              "    </tr>\n",
              "    <tr>\n",
              "      <th>3</th>\n",
              "      <td>10/10/2022 12:14:24</td>\n",
              "      <td>Business</td>\n",
              "    </tr>\n",
              "    <tr>\n",
              "      <th>4</th>\n",
              "      <td>10/10/2022 12:14:26</td>\n",
              "      <td>Business</td>\n",
              "    </tr>\n",
              "    <tr>\n",
              "      <th>5</th>\n",
              "      <td>10/10/2022 12:14:28</td>\n",
              "      <td>Accounting</td>\n",
              "    </tr>\n",
              "    <tr>\n",
              "      <th>6</th>\n",
              "      <td>10/10/2022 12:14:28</td>\n",
              "      <td>Accounting</td>\n",
              "    </tr>\n",
              "    <tr>\n",
              "      <th>7</th>\n",
              "      <td>10/10/2022 12:14:30</td>\n",
              "      <td>Health Science</td>\n",
              "    </tr>\n",
              "    <tr>\n",
              "      <th>8</th>\n",
              "      <td>10/10/2022 12:14:31</td>\n",
              "      <td>Health Science</td>\n",
              "    </tr>\n",
              "    <tr>\n",
              "      <th>9</th>\n",
              "      <td>10/10/2022 12:14:33</td>\n",
              "      <td>Criminal Justice</td>\n",
              "    </tr>\n",
              "    <tr>\n",
              "      <th>10</th>\n",
              "      <td>10/10/2022 12:14:35</td>\n",
              "      <td>Exercise Science</td>\n",
              "    </tr>\n",
              "    <tr>\n",
              "      <th>11</th>\n",
              "      <td>10/10/2022 12:14:36</td>\n",
              "      <td>Health Science</td>\n",
              "    </tr>\n",
              "    <tr>\n",
              "      <th>12</th>\n",
              "      <td>10/10/2022 12:14:38</td>\n",
              "      <td>Marketing</td>\n",
              "    </tr>\n",
              "    <tr>\n",
              "      <th>13</th>\n",
              "      <td>10/10/2022 12:14:38</td>\n",
              "      <td>Geology</td>\n",
              "    </tr>\n",
              "    <tr>\n",
              "      <th>14</th>\n",
              "      <td>10/10/2022 12:14:58</td>\n",
              "      <td>Health Science</td>\n",
              "    </tr>\n",
              "    <tr>\n",
              "      <th>15</th>\n",
              "      <td>10/10/2022 12:15:02</td>\n",
              "      <td>Exercise Science</td>\n",
              "    </tr>\n",
              "    <tr>\n",
              "      <th>16</th>\n",
              "      <td>10/10/2022 12:15:13</td>\n",
              "      <td>Geology</td>\n",
              "    </tr>\n",
              "    <tr>\n",
              "      <th>17</th>\n",
              "      <td>10/10/2022 12:15:38</td>\n",
              "      <td>Finance</td>\n",
              "    </tr>\n",
              "    <tr>\n",
              "      <th>18</th>\n",
              "      <td>10/10/2022 12:15:50</td>\n",
              "      <td>Computer Science</td>\n",
              "    </tr>\n",
              "    <tr>\n",
              "      <th>19</th>\n",
              "      <td>10/10/2022 12:16:04</td>\n",
              "      <td>Finance</td>\n",
              "    </tr>\n",
              "    <tr>\n",
              "      <th>20</th>\n",
              "      <td>10/10/2022 12:16:09</td>\n",
              "      <td>Marketing</td>\n",
              "    </tr>\n",
              "    <tr>\n",
              "      <th>21</th>\n",
              "      <td>10/10/2022 12:18:15</td>\n",
              "      <td>Marketing</td>\n",
              "    </tr>\n",
              "    <tr>\n",
              "      <th>22</th>\n",
              "      <td>12/11/2022 13:17:08</td>\n",
              "      <td>Marketing</td>\n",
              "    </tr>\n",
              "  </tbody>\n",
              "</table>\n",
              "</div>\n",
              "      <button class=\"colab-df-convert\" onclick=\"convertToInteractive('df-dc7b3254-d14d-48df-8989-dd907c35f4d6')\"\n",
              "              title=\"Convert this dataframe to an interactive table.\"\n",
              "              style=\"display:none;\">\n",
              "        \n",
              "  <svg xmlns=\"http://www.w3.org/2000/svg\" height=\"24px\"viewBox=\"0 0 24 24\"\n",
              "       width=\"24px\">\n",
              "    <path d=\"M0 0h24v24H0V0z\" fill=\"none\"/>\n",
              "    <path d=\"M18.56 5.44l.94 2.06.94-2.06 2.06-.94-2.06-.94-.94-2.06-.94 2.06-2.06.94zm-11 1L8.5 8.5l.94-2.06 2.06-.94-2.06-.94L8.5 2.5l-.94 2.06-2.06.94zm10 10l.94 2.06.94-2.06 2.06-.94-2.06-.94-.94-2.06-.94 2.06-2.06.94z\"/><path d=\"M17.41 7.96l-1.37-1.37c-.4-.4-.92-.59-1.43-.59-.52 0-1.04.2-1.43.59L10.3 9.45l-7.72 7.72c-.78.78-.78 2.05 0 2.83L4 21.41c.39.39.9.59 1.41.59.51 0 1.02-.2 1.41-.59l7.78-7.78 2.81-2.81c.8-.78.8-2.07 0-2.86zM5.41 20L4 18.59l7.72-7.72 1.47 1.35L5.41 20z\"/>\n",
              "  </svg>\n",
              "      </button>\n",
              "      \n",
              "  <style>\n",
              "    .colab-df-container {\n",
              "      display:flex;\n",
              "      flex-wrap:wrap;\n",
              "      gap: 12px;\n",
              "    }\n",
              "\n",
              "    .colab-df-convert {\n",
              "      background-color: #E8F0FE;\n",
              "      border: none;\n",
              "      border-radius: 50%;\n",
              "      cursor: pointer;\n",
              "      display: none;\n",
              "      fill: #1967D2;\n",
              "      height: 32px;\n",
              "      padding: 0 0 0 0;\n",
              "      width: 32px;\n",
              "    }\n",
              "\n",
              "    .colab-df-convert:hover {\n",
              "      background-color: #E2EBFA;\n",
              "      box-shadow: 0px 1px 2px rgba(60, 64, 67, 0.3), 0px 1px 3px 1px rgba(60, 64, 67, 0.15);\n",
              "      fill: #174EA6;\n",
              "    }\n",
              "\n",
              "    [theme=dark] .colab-df-convert {\n",
              "      background-color: #3B4455;\n",
              "      fill: #D2E3FC;\n",
              "    }\n",
              "\n",
              "    [theme=dark] .colab-df-convert:hover {\n",
              "      background-color: #434B5C;\n",
              "      box-shadow: 0px 1px 3px 1px rgba(0, 0, 0, 0.15);\n",
              "      filter: drop-shadow(0px 1px 2px rgba(0, 0, 0, 0.3));\n",
              "      fill: #FFFFFF;\n",
              "    }\n",
              "  </style>\n",
              "\n",
              "      <script>\n",
              "        const buttonEl =\n",
              "          document.querySelector('#df-dc7b3254-d14d-48df-8989-dd907c35f4d6 button.colab-df-convert');\n",
              "        buttonEl.style.display =\n",
              "          google.colab.kernel.accessAllowed ? 'block' : 'none';\n",
              "\n",
              "        async function convertToInteractive(key) {\n",
              "          const element = document.querySelector('#df-dc7b3254-d14d-48df-8989-dd907c35f4d6');\n",
              "          const dataTable =\n",
              "            await google.colab.kernel.invokeFunction('convertToInteractive',\n",
              "                                                     [key], {});\n",
              "          if (!dataTable) return;\n",
              "\n",
              "          const docLinkHtml = 'Like what you see? Visit the ' +\n",
              "            '<a target=\"_blank\" href=https://colab.research.google.com/notebooks/data_table.ipynb>data table notebook</a>'\n",
              "            + ' to learn more about interactive tables.';\n",
              "          element.innerHTML = '';\n",
              "          dataTable['output_type'] = 'display_data';\n",
              "          await google.colab.output.renderOutput(dataTable, element);\n",
              "          const docLink = document.createElement('div');\n",
              "          docLink.innerHTML = docLinkHtml;\n",
              "          element.appendChild(docLink);\n",
              "        }\n",
              "      </script>\n",
              "    </div>\n",
              "  </div>\n",
              "  "
            ]
          },
          "metadata": {},
          "execution_count": 26
        }
      ]
    },
    {
      "cell_type": "code",
      "source": [
        "data = np.array(data)"
      ],
      "metadata": {
        "id": "R5ic_hxCqOBR"
      },
      "execution_count": 31,
      "outputs": []
    },
    {
      "cell_type": "code",
      "source": [
        "data.shape"
      ],
      "metadata": {
        "colab": {
          "base_uri": "https://localhost:8080/"
        },
        "id": "_OPpuRRErDRq",
        "outputId": "7b0e5f39-ec37-4ab2-a841-5fba897cd7d3"
      },
      "execution_count": 32,
      "outputs": [
        {
          "output_type": "execute_result",
          "data": {
            "text/plain": [
              "(23, 2)"
            ]
          },
          "metadata": {},
          "execution_count": 32
        }
      ]
    },
    {
      "cell_type": "code",
      "source": [
        "majors = data[:,1]"
      ],
      "metadata": {
        "id": "OSk3DYFwrD5S"
      },
      "execution_count": 33,
      "outputs": []
    },
    {
      "cell_type": "code",
      "source": [
        "majors"
      ],
      "metadata": {
        "colab": {
          "base_uri": "https://localhost:8080/"
        },
        "id": "wyJecJ0yroSI",
        "outputId": "f386b028-bd1f-4ab2-f6ea-3d042c181012"
      },
      "execution_count": 34,
      "outputs": [
        {
          "output_type": "execute_result",
          "data": {
            "text/plain": [
              "array(['Marketing', 'Accounting', 'Math', 'Business', 'Business',\n",
              "       'Accounting', 'Accounting', 'Health Science', 'Health Science',\n",
              "       'Criminal Justice', 'Exercise Science', 'Health Science',\n",
              "       'Marketing', 'Geology', 'Health Science', 'Exercise Science',\n",
              "       'Geology', 'Finance', 'Computer Science', 'Finance', 'Marketing',\n",
              "       'Marketing', 'Marketing'], dtype=object)"
            ]
          },
          "metadata": {},
          "execution_count": 34
        }
      ]
    },
    {
      "cell_type": "code",
      "source": [
        "majors == 'Math'"
      ],
      "metadata": {
        "colab": {
          "base_uri": "https://localhost:8080/"
        },
        "id": "5QD8bTfKrrBH",
        "outputId": "814de9fb-42b2-4176-a1a3-bc5637b70595"
      },
      "execution_count": 35,
      "outputs": [
        {
          "output_type": "execute_result",
          "data": {
            "text/plain": [
              "array([False, False,  True, False, False, False, False, False, False,\n",
              "       False, False, False, False, False, False, False, False, False,\n",
              "       False, False, False, False, False])"
            ]
          },
          "metadata": {},
          "execution_count": 35
        }
      ]
    },
    {
      "cell_type": "code",
      "source": [
        "np.sum(majors == 'Marketing')"
      ],
      "metadata": {
        "colab": {
          "base_uri": "https://localhost:8080/"
        },
        "id": "cSNflfMervTv",
        "outputId": "843948ea-d020-4997-d8a1-07484315327a"
      },
      "execution_count": 40,
      "outputs": [
        {
          "output_type": "execute_result",
          "data": {
            "text/plain": [
              "5"
            ]
          },
          "metadata": {},
          "execution_count": 40
        }
      ]
    },
    {
      "cell_type": "markdown",
      "source": [
        "this function calculates the amount of times a data value shows up"
      ],
      "metadata": {
        "id": "fIGhVqXAGX3k"
      }
    },
    {
      "cell_type": "code",
      "source": [
        "np.sum(majors == 'Geology')"
      ],
      "metadata": {
        "colab": {
          "base_uri": "https://localhost:8080/"
        },
        "id": "krdGNvJXGkZc",
        "outputId": "55a83036-3c6b-441e-c370-e9f92e98c4d4"
      },
      "execution_count": 41,
      "outputs": [
        {
          "output_type": "execute_result",
          "data": {
            "text/plain": [
              "2"
            ]
          },
          "metadata": {},
          "execution_count": 41
        }
      ]
    },
    {
      "cell_type": "code",
      "source": [
        "np.sum(majors == 'Accounting')"
      ],
      "metadata": {
        "colab": {
          "base_uri": "https://localhost:8080/"
        },
        "id": "LyEj_KoNGnrE",
        "outputId": "ae8af69b-5711-4e06-f6da-a2a3b22dd505"
      },
      "execution_count": 42,
      "outputs": [
        {
          "output_type": "execute_result",
          "data": {
            "text/plain": [
              "3"
            ]
          },
          "metadata": {},
          "execution_count": 42
        }
      ]
    },
    {
      "cell_type": "code",
      "source": [
        "Computer_Science = np.sum(majors == 'Computer Science')\n",
        "English = np.sum(majors == 'English')\n",
        "Accounting = np.sum(majors == 'Accounting')"
      ],
      "metadata": {
        "id": "8YvmiKHJrIqr"
      },
      "execution_count": 43,
      "outputs": []
    },
    {
      "cell_type": "code",
      "source": [
        "Math = np.sum(majors == 'English')\n",
        "Marketing = np.sum(majors == 'Accounting')"
      ],
      "metadata": {
        "id": "SD3_9-D_r5Hf"
      },
      "execution_count": 59,
      "outputs": []
    },
    {
      "cell_type": "code",
      "source": [
        "Accounting"
      ],
      "metadata": {
        "colab": {
          "base_uri": "https://localhost:8080/"
        },
        "id": "px-8AuzGr_vA",
        "outputId": "67826960-1a6a-4975-9592-f4cd6532da48"
      },
      "execution_count": 60,
      "outputs": [
        {
          "output_type": "execute_result",
          "data": {
            "text/plain": [
              "3"
            ]
          },
          "metadata": {},
          "execution_count": 60
        }
      ]
    },
    {
      "cell_type": "code",
      "source": [
        "English"
      ],
      "metadata": {
        "colab": {
          "base_uri": "https://localhost:8080/"
        },
        "id": "qH77pIZxsA2Q",
        "outputId": "99354849-1c06-464d-d026-1f7dbd6c015a"
      },
      "execution_count": 61,
      "outputs": [
        {
          "output_type": "execute_result",
          "data": {
            "text/plain": [
              "0"
            ]
          },
          "metadata": {},
          "execution_count": 61
        }
      ]
    },
    {
      "cell_type": "code",
      "source": [
        "names = ['Accounting', 'English']\n",
        "values = [Accounting, English]\n",
        "\n",
        "plt.bar(names, values)"
      ],
      "metadata": {
        "colab": {
          "base_uri": "https://localhost:8080/",
          "height": 282
        },
        "outputId": "64fae848-0d2b-42ea-9fd0-de732eacedb3",
        "id": "hcj-U3CDrIqs"
      },
      "execution_count": 63,
      "outputs": [
        {
          "output_type": "execute_result",
          "data": {
            "text/plain": [
              "<BarContainer object of 2 artists>"
            ]
          },
          "metadata": {},
          "execution_count": 63
        },
        {
          "output_type": "display_data",
          "data": {
            "text/plain": [
              "<Figure size 432x288 with 1 Axes>"
            ],
            "image/png": "[encoded data removed]"
          },
          "metadata": {
            "needs_background": "light"
          }
        }
      ]
    },
    {
      "cell_type": "code",
      "source": [
        "names = ['Accounting', 'English']\n",
        "values = [Math, Marketing]\n",
        "\n",
        "plt.bar(names, values)"
      ],
      "metadata": {
        "colab": {
          "base_uri": "https://localhost:8080/",
          "height": 282
        },
        "id": "ZyAxsP0JG5nL",
        "outputId": "c8226178-21b9-47fb-97c4-1a092294a661"
      },
      "execution_count": 65,
      "outputs": [
        {
          "output_type": "execute_result",
          "data": {
            "text/plain": [
              "<BarContainer object of 2 artists>"
            ]
          },
          "metadata": {},
          "execution_count": 65
        },
        {
          "output_type": "display_data",
          "data": {
            "text/plain": [
              "<Figure size 432x288 with 1 Axes>"
            ],
            "image/png": "[encoded data removed]"
          },
          "metadata": {
            "needs_background": "light"
          }
        }
      ]
    },
    {
      "cell_type": "code",
      "source": [
        "majors"
      ],
      "metadata": {
        "colab": {
          "base_uri": "https://localhost:8080/"
        },
        "id": "2_oUFTgdt_At",
        "outputId": "c0cd6b84-bc09-4cc1-9932-42df25abee62"
      },
      "execution_count": 66,
      "outputs": [
        {
          "output_type": "execute_result",
          "data": {
            "text/plain": [
              "array(['Marketing', 'Accounting', 'Math', 'Business', 'Business',\n",
              "       'Accounting', 'Accounting', 'Health Science', 'Health Science',\n",
              "       'Criminal Justice', 'Exercise Science', 'Health Science',\n",
              "       'Marketing', 'Geology', 'Health Science', 'Exercise Science',\n",
              "       'Geology', 'Finance', 'Computer Science', 'Finance', 'Marketing',\n",
              "       'Marketing', 'Marketing'], dtype=object)"
            ]
          },
          "metadata": {},
          "execution_count": 66
        }
      ]
    },
    {
      "cell_type": "code",
      "source": [],
      "metadata": {
        "id": "S_o6MO-MuP_1"
      },
      "execution_count": 66,
      "outputs": []
    },
    {
      "cell_type": "code",
      "source": [
        "D = {}\n",
        "\n",
        "for major in majors:\n",
        "    \n",
        "    count = np.sum(majors == major)\n",
        "\n",
        "    print(major, count)\n",
        "\n",
        "    D[major] = count"
      ],
      "metadata": {
        "colab": {
          "base_uri": "https://localhost:8080/"
        },
        "id": "P7uwGTDHt_Dc",
        "outputId": "6f7e9fa9-f765-4640-9b71-90c0be7e818a"
      },
      "execution_count": 67,
      "outputs": [
        {
          "output_type": "stream",
          "name": "stdout",
          "text": [
            "Marketing 5\n",
            "Accounting 3\n",
            "Math 1\n",
            "Business 2\n",
            "Business 2\n",
            "Accounting 3\n",
            "Accounting 3\n",
            "Health Science 4\n",
            "Health Science 4\n",
            "Criminal Justice 1\n",
            "Exercise Science 2\n",
            "Health Science 4\n",
            "Marketing 5\n",
            "Geology 2\n",
            "Health Science 4\n",
            "Exercise Science 2\n",
            "Geology 2\n",
            "Finance 2\n",
            "Computer Science 1\n",
            "Finance 2\n",
            "Marketing 5\n",
            "Marketing 5\n",
            "Marketing 5\n"
          ]
        }
      ]
    },
    {
      "cell_type": "code",
      "source": [
        "D.keys()"
      ],
      "metadata": {
        "colab": {
          "base_uri": "https://localhost:8080/"
        },
        "id": "BC8cg2eMsZRY",
        "outputId": "030494b0-e1d1-426d-e394-53e1bacffa44"
      },
      "execution_count": 68,
      "outputs": [
        {
          "output_type": "execute_result",
          "data": {
            "text/plain": [
              "dict_keys(['Marketing', 'Accounting', 'Math', 'Business', 'Health Science', 'Criminal Justice', 'Exercise Science', 'Geology', 'Finance', 'Computer Science'])"
            ]
          },
          "metadata": {},
          "execution_count": 68
        }
      ]
    },
    {
      "cell_type": "markdown",
      "source": [
        "this function return lists of the values explicitly"
      ],
      "metadata": {
        "id": "Xhm_fLS7MDxX"
      }
    },
    {
      "cell_type": "code",
      "source": [
        "D.values()"
      ],
      "metadata": {
        "colab": {
          "base_uri": "https://localhost:8080/"
        },
        "id": "tlgQNsdzscMI",
        "outputId": "2efaa984-698d-48ef-86ca-3217891c41bd"
      },
      "execution_count": 69,
      "outputs": [
        {
          "output_type": "execute_result",
          "data": {
            "text/plain": [
              "dict_values([5, 3, 1, 2, 4, 1, 2, 2, 2, 1])"
            ]
          },
          "metadata": {},
          "execution_count": 69
        }
      ]
    },
    {
      "cell_type": "code",
      "source": [
        "names = list(D.keys())\n",
        "values = list(D.values())\n",
        "\n",
        "N = len(names)\n",
        "cmap = plt.cm.tab10\n",
        "colors = cmap(np.arange(N) % cmap.N)\n",
        "\n",
        "plt.bar(range(len(D)), values, tick_label=names, color = colors)\n",
        "plt.show()"
      ],
      "metadata": {
        "colab": {
          "base_uri": "https://localhost:8080/",
          "height": 265
        },
        "id": "fxqpPdkJt_F_",
        "outputId": "2cffd271-43c7-44c7-d28b-b29ce2ff552e"
      },
      "execution_count": 71,
      "outputs": [
        {
          "output_type": "display_data",
          "data": {
            "text/plain": [
              "<Figure size 432x288 with 1 Axes>"
            ],
            "image/png": "[encoded data removed]"
          },
          "metadata": {
            "needs_background": "light"
          }
        }
      ]
    },
    {
      "cell_type": "code",
      "source": [],
      "metadata": {
        "id": "DIH869kcwhQj"
      },
      "execution_count": null,
      "outputs": []
    },
    {
      "cell_type": "code",
      "source": [],
      "metadata": {
        "id": "X_dgeJmKts3J"
      },
      "execution_count": null,
      "outputs": []
    },
    {
      "cell_type": "markdown",
      "source": [
        "# Ice Cream\n",
        "https://forms.gle/r2wLRSyuTb79dynY6"
      ],
      "metadata": {
        "id": "Sk0xXtGkttBB"
      }
    },
    {
      "cell_type": "code",
      "source": [
        "url_ice_cream = \"https://docs.google.com/spreadsheets/d/1J_xuTprgXEmWRLmkROpc-YQ2S-cTOLkk0OWAfX4br_0/edit?usp=sharing\""
      ],
      "metadata": {
        "id": "g4KQgT6VttaY"
      },
      "execution_count": 72,
      "outputs": []
    },
    {
      "cell_type": "code",
      "source": [
        "data = get_database(url_ice_cream)"
      ],
      "metadata": {
        "id": "o5FzjRUjud1q"
      },
      "execution_count": 73,
      "outputs": []
    },
    {
      "cell_type": "code",
      "source": [
        "data"
      ],
      "metadata": {
        "colab": {
          "base_uri": "https://localhost:8080/",
          "height": 1000
        },
        "outputId": "82794be1-f1c4-4812-bf20-47cdec4fbb22",
        "id": "C_VocHZnud1q"
      },
      "execution_count": 74,
      "outputs": [
        {
          "output_type": "execute_result",
          "data": {
            "text/plain": [
              "              Timestamp       Fav Ice Cream Cup / Cone / Cookie Sandwich  \\\n",
              "0   10/10/2022 12:26:06        Cookie Dough              Cookie Sandwich   \n",
              "1   10/10/2022 12:26:14        Butter Pecan                         Cone   \n",
              "2   10/10/2022 12:26:19               Mango                          Cup   \n",
              "3   10/10/2022 12:26:19                Mint                         Cone   \n",
              "4   10/10/2022 12:26:21        Cookie Dough                          Cup   \n",
              "5   10/10/2022 12:26:22    Cookie and Cream                          Cup   \n",
              "6   10/10/2022 12:26:22           Chocolate                          Cup   \n",
              "7   10/10/2022 12:26:29           Chocolate                          Cup   \n",
              "8   10/10/2022 12:26:30                Mint              Cookie Sandwich   \n",
              "9   10/10/2022 12:26:32            Vanillia              Cookie Sandwich   \n",
              "10  10/10/2022 12:26:36       Birthday Cake                         Cone   \n",
              "11  10/10/2022 12:26:39        Cookie Dough                          Cup   \n",
              "12  10/10/2022 12:26:40           Chocolate                         Cone   \n",
              "13  10/10/2022 12:26:41           Chocolate                         Cone   \n",
              "14  10/10/2022 12:26:50           Chocolate                         Cone   \n",
              "15  10/10/2022 12:26:51           Chocolate                          Cup   \n",
              "16  10/10/2022 12:26:51          Strawberry                         Cone   \n",
              "17  10/10/2022 12:26:57    Cookie and Cream                         Cone   \n",
              "18  10/10/2022 12:26:59        Butter Pecan                          Cup   \n",
              "19  10/10/2022 12:27:01           Chocolate                          Cup   \n",
              "20  10/10/2022 12:27:01          Strawberry                          Cup   \n",
              "21  10/10/2022 12:27:07    Cookie and Cream                         Cone   \n",
              "22  10/10/2022 12:27:08            Vanillia                          Cup   \n",
              "23  10/10/2022 12:27:13               Mango                         Cone   \n",
              "24  10/10/2022 12:27:16           Chocolate                         Cone   \n",
              "25  10/10/2022 12:27:21        Cookie Dough                         Cone   \n",
              "26  10/10/2022 12:27:24    Cookie and Cream                         Cone   \n",
              "27  10/10/2022 12:27:30               Mango                          Cup   \n",
              "28  10/10/2022 12:27:39  Pralines and Cream                         Cone   \n",
              "29  10/10/2022 12:28:06           Chocolate              Cookie Sandwich   \n",
              "30  10/10/2022 12:28:19                Mint              Cookie Sandwich   \n",
              "31  10/10/2022 12:29:49        Cookie Dough                          Cup   \n",
              "\n",
              "                            Toppings                     Special Requests:  \n",
              "0                            Caramel                           Warm Cookie  \n",
              "1                            Caramel                                   NaN  \n",
              "2                          Sprinkles                                  none  \n",
              "3                       Marshmallows                         Whipped cream  \n",
              "4                          Sprinkles                                 oreos  \n",
              "5   Sprinkles, Caramel, Marshmallows                                   NaN  \n",
              "6            Caramel, Gummies, Candy                              brownies  \n",
              "7                          Sprinkles                    no special request  \n",
              "8                            Caramel            Make the cookies chocolate  \n",
              "9                              Fudge                                     .  \n",
              "10                Sprinkles, Caramel                                   N/a  \n",
              "11                Chips, Nuts, Candy                                takis   \n",
              "12  Sprinkles, Chips, Gummies, Candy                                to go   \n",
              "13                             Fudge                         whipped cream  \n",
              "14                         Sprinkles                   soft serve only tho  \n",
              "15                             Candy                            soft serve  \n",
              "16             Caramel, Marshmallows        only cake cone not waffle cone  \n",
              "17          Sprinkles, Nuts, Gummies                                  None  \n",
              "18                              Nuts                              Cherries  \n",
              "19                             Chips             Cake cones > waffle cones  \n",
              "20                           Gummies                                   NaN  \n",
              "21                         Sprinkles                           No toppings  \n",
              "22                     Caramel, Nuts                   Whip Cream as well   \n",
              "23                             Chips                                  none  \n",
              "24         Sprinkles, Fudge, Caramel                                    No  \n",
              "25         Sprinkles, Fudge, Caramel                                     -  \n",
              "26                             Chips                            Ice cream   \n",
              "27                      Marshmallows                         with caramel   \n",
              "28  Sprinkles, Chips, Fudge, Caramel  chocolate coated waffle cone (fresh)  \n",
              "29                Sprinkles, Caramel                                  m&ms  \n",
              "30                    Fudge, Caramel            make the cookies chocolate  \n",
              "31                    Fudge, Gummies                                  none  "
            ],
            "text/html": [
              "\n",
              "  <div id=\"df-ff3c1e4b-7fbe-4fe4-a5e1-b86ba1d36200\">\n",
              "    <div class=\"colab-df-container\">\n",
              "      <div>\n",
              "<style scoped>\n",
              "    .dataframe tbody tr th:only-of-type {\n",
              "        vertical-align: middle;\n",
              "    }\n",
              "\n",
              "    .dataframe tbody tr th {\n",
              "        vertical-align: top;\n",
              "    }\n",
              "\n",
              "    .dataframe thead th {\n",
              "        text-align: right;\n",
              "    }\n",
              "</style>\n",
              "<table border=\"1\" class=\"dataframe\">\n",
              "  <thead>\n",
              "    <tr style=\"text-align: right;\">\n",
              "      <th></th>\n",
              "      <th>Timestamp</th>\n",
              "      <th>Fav Ice Cream</th>\n",
              "      <th>Cup / Cone / Cookie Sandwich</th>\n",
              "      <th>Toppings</th>\n",
              "      <th>Special Requests:</th>\n",
              "    </tr>\n",
              "  </thead>\n",
              "  <tbody>\n",
              "    <tr>\n",
              "      <th>0</th>\n",
              "      <td>10/10/2022 12:26:06</td>\n",
              "      <td>Cookie Dough</td>\n",
              "      <td>Cookie Sandwich</td>\n",
              "      <td>Caramel</td>\n",
              "      <td>Warm Cookie</td>\n",
              "    </tr>\n",
              "    <tr>\n",
              "      <th>1</th>\n",
              "      <td>10/10/2022 12:26:14</td>\n",
              "      <td>Butter Pecan</td>\n",
              "      <td>Cone</td>\n",
              "      <td>Caramel</td>\n",
              "      <td>NaN</td>\n",
              "    </tr>\n",
              "    <tr>\n",
              "      <th>2</th>\n",
              "      <td>10/10/2022 12:26:19</td>\n",
              "      <td>Mango</td>\n",
              "      <td>Cup</td>\n",
              "      <td>Sprinkles</td>\n",
              "      <td>none</td>\n",
              "    </tr>\n",
              "    <tr>\n",
              "      <th>3</th>\n",
              "      <td>10/10/2022 12:26:19</td>\n",
              "      <td>Mint</td>\n",
              "      <td>Cone</td>\n",
              "      <td>Marshmallows</td>\n",
              "      <td>Whipped cream</td>\n",
              "    </tr>\n",
              "    <tr>\n",
              "      <th>4</th>\n",
              "      <td>10/10/2022 12:26:21</td>\n",
              "      <td>Cookie Dough</td>\n",
              "      <td>Cup</td>\n",
              "      <td>Sprinkles</td>\n",
              "      <td>oreos</td>\n",
              "    </tr>\n",
              "    <tr>\n",
              "      <th>5</th>\n",
              "      <td>10/10/2022 12:26:22</td>\n",
              "      <td>Cookie and Cream</td>\n",
              "      <td>Cup</td>\n",
              "      <td>Sprinkles, Caramel, Marshmallows</td>\n",
              "      <td>NaN</td>\n",
              "    </tr>\n",
              "    <tr>\n",
              "      <th>6</th>\n",
              "      <td>10/10/2022 12:26:22</td>\n",
              "      <td>Chocolate</td>\n",
              "      <td>Cup</td>\n",
              "      <td>Caramel, Gummies, Candy</td>\n",
              "      <td>brownies</td>\n",
              "    </tr>\n",
              "    <tr>\n",
              "      <th>7</th>\n",
              "      <td>10/10/2022 12:26:29</td>\n",
              "      <td>Chocolate</td>\n",
              "      <td>Cup</td>\n",
              "      <td>Sprinkles</td>\n",
              "      <td>no special request</td>\n",
              "    </tr>\n",
              "    <tr>\n",
              "      <th>8</th>\n",
              "      <td>10/10/2022 12:26:30</td>\n",
              "      <td>Mint</td>\n",
              "      <td>Cookie Sandwich</td>\n",
              "      <td>Caramel</td>\n",
              "      <td>Make the cookies chocolate</td>\n",
              "    </tr>\n",
              "    <tr>\n",
              "      <th>9</th>\n",
              "      <td>10/10/2022 12:26:32</td>\n",
              "      <td>Vanillia</td>\n",
              "      <td>Cookie Sandwich</td>\n",
              "      <td>Fudge</td>\n",
              "      <td>.</td>\n",
              "    </tr>\n",
              "    <tr>\n",
              "      <th>10</th>\n",
              "      <td>10/10/2022 12:26:36</td>\n",
              "      <td>Birthday Cake</td>\n",
              "      <td>Cone</td>\n",
              "      <td>Sprinkles, Caramel</td>\n",
              "      <td>N/a</td>\n",
              "    </tr>\n",
              "    <tr>\n",
              "      <th>11</th>\n",
              "      <td>10/10/2022 12:26:39</td>\n",
              "      <td>Cookie Dough</td>\n",
              "      <td>Cup</td>\n",
              "      <td>Chips, Nuts, Candy</td>\n",
              "      <td>takis</td>\n",
              "    </tr>\n",
              "    <tr>\n",
              "      <th>12</th>\n",
              "      <td>10/10/2022 12:26:40</td>\n",
              "      <td>Chocolate</td>\n",
              "      <td>Cone</td>\n",
              "      <td>Sprinkles, Chips, Gummies, Candy</td>\n",
              "      <td>to go</td>\n",
              "    </tr>\n",
              "    <tr>\n",
              "      <th>13</th>\n",
              "      <td>10/10/2022 12:26:41</td>\n",
              "      <td>Chocolate</td>\n",
              "      <td>Cone</td>\n",
              "      <td>Fudge</td>\n",
              "      <td>whipped cream</td>\n",
              "    </tr>\n",
              "    <tr>\n",
              "      <th>14</th>\n",
              "      <td>10/10/2022 12:26:50</td>\n",
              "      <td>Chocolate</td>\n",
              "      <td>Cone</td>\n",
              "      <td>Sprinkles</td>\n",
              "      <td>soft serve only tho</td>\n",
              "    </tr>\n",
              "    <tr>\n",
              "      <th>15</th>\n",
              "      <td>10/10/2022 12:26:51</td>\n",
              "      <td>Chocolate</td>\n",
              "      <td>Cup</td>\n",
              "      <td>Candy</td>\n",
              "      <td>soft serve</td>\n",
              "    </tr>\n",
              "    <tr>\n",
              "      <th>16</th>\n",
              "      <td>10/10/2022 12:26:51</td>\n",
              "      <td>Strawberry</td>\n",
              "      <td>Cone</td>\n",
              "      <td>Caramel, Marshmallows</td>\n",
              "      <td>only cake cone not waffle cone</td>\n",
              "    </tr>\n",
              "    <tr>\n",
              "      <th>17</th>\n",
              "      <td>10/10/2022 12:26:57</td>\n",
              "      <td>Cookie and Cream</td>\n",
              "      <td>Cone</td>\n",
              "      <td>Sprinkles, Nuts, Gummies</td>\n",
              "      <td>None</td>\n",
              "    </tr>\n",
              "    <tr>\n",
              "      <th>18</th>\n",
              "      <td>10/10/2022 12:26:59</td>\n",
              "      <td>Butter Pecan</td>\n",
              "      <td>Cup</td>\n",
              "      <td>Nuts</td>\n",
              "      <td>Cherries</td>\n",
              "    </tr>\n",
              "    <tr>\n",
              "      <th>19</th>\n",
              "      <td>10/10/2022 12:27:01</td>\n",
              "      <td>Chocolate</td>\n",
              "      <td>Cup</td>\n",
              "      <td>Chips</td>\n",
              "      <td>Cake cones &gt; waffle cones</td>\n",
              "    </tr>\n",
              "    <tr>\n",
              "      <th>20</th>\n",
              "      <td>10/10/2022 12:27:01</td>\n",
              "      <td>Strawberry</td>\n",
              "      <td>Cup</td>\n",
              "      <td>Gummies</td>\n",
              "      <td>NaN</td>\n",
              "    </tr>\n",
              "    <tr>\n",
              "      <th>21</th>\n",
              "      <td>10/10/2022 12:27:07</td>\n",
              "      <td>Cookie and Cream</td>\n",
              "      <td>Cone</td>\n",
              "      <td>Sprinkles</td>\n",
              "      <td>No toppings</td>\n",
              "    </tr>\n",
              "    <tr>\n",
              "      <th>22</th>\n",
              "      <td>10/10/2022 12:27:08</td>\n",
              "      <td>Vanillia</td>\n",
              "      <td>Cup</td>\n",
              "      <td>Caramel, Nuts</td>\n",
              "      <td>Whip Cream as well</td>\n",
              "    </tr>\n",
              "    <tr>\n",
              "      <th>23</th>\n",
              "      <td>10/10/2022 12:27:13</td>\n",
              "      <td>Mango</td>\n",
              "      <td>Cone</td>\n",
              "      <td>Chips</td>\n",
              "      <td>none</td>\n",
              "    </tr>\n",
              "    <tr>\n",
              "      <th>24</th>\n",
              "      <td>10/10/2022 12:27:16</td>\n",
              "      <td>Chocolate</td>\n",
              "      <td>Cone</td>\n",
              "      <td>Sprinkles, Fudge, Caramel</td>\n",
              "      <td>No</td>\n",
              "    </tr>\n",
              "    <tr>\n",
              "      <th>25</th>\n",
              "      <td>10/10/2022 12:27:21</td>\n",
              "      <td>Cookie Dough</td>\n",
              "      <td>Cone</td>\n",
              "      <td>Sprinkles, Fudge, Caramel</td>\n",
              "      <td>-</td>\n",
              "    </tr>\n",
              "    <tr>\n",
              "      <th>26</th>\n",
              "      <td>10/10/2022 12:27:24</td>\n",
              "      <td>Cookie and Cream</td>\n",
              "      <td>Cone</td>\n",
              "      <td>Chips</td>\n",
              "      <td>Ice cream</td>\n",
              "    </tr>\n",
              "    <tr>\n",
              "      <th>27</th>\n",
              "      <td>10/10/2022 12:27:30</td>\n",
              "      <td>Mango</td>\n",
              "      <td>Cup</td>\n",
              "      <td>Marshmallows</td>\n",
              "      <td>with caramel</td>\n",
              "    </tr>\n",
              "    <tr>\n",
              "      <th>28</th>\n",
              "      <td>10/10/2022 12:27:39</td>\n",
              "      <td>Pralines and Cream</td>\n",
              "      <td>Cone</td>\n",
              "      <td>Sprinkles, Chips, Fudge, Caramel</td>\n",
              "      <td>chocolate coated waffle cone (fresh)</td>\n",
              "    </tr>\n",
              "    <tr>\n",
              "      <th>29</th>\n",
              "      <td>10/10/2022 12:28:06</td>\n",
              "      <td>Chocolate</td>\n",
              "      <td>Cookie Sandwich</td>\n",
              "      <td>Sprinkles, Caramel</td>\n",
              "      <td>m&amp;ms</td>\n",
              "    </tr>\n",
              "    <tr>\n",
              "      <th>30</th>\n",
              "      <td>10/10/2022 12:28:19</td>\n",
              "      <td>Mint</td>\n",
              "      <td>Cookie Sandwich</td>\n",
              "      <td>Fudge, Caramel</td>\n",
              "      <td>make the cookies chocolate</td>\n",
              "    </tr>\n",
              "    <tr>\n",
              "      <th>31</th>\n",
              "      <td>10/10/2022 12:29:49</td>\n",
              "      <td>Cookie Dough</td>\n",
              "      <td>Cup</td>\n",
              "      <td>Fudge, Gummies</td>\n",
              "      <td>none</td>\n",
              "    </tr>\n",
              "  </tbody>\n",
              "</table>\n",
              "</div>\n",
              "      <button class=\"colab-df-convert\" onclick=\"convertToInteractive('df-ff3c1e4b-7fbe-4fe4-a5e1-b86ba1d36200')\"\n",
              "              title=\"Convert this dataframe to an interactive table.\"\n",
              "              style=\"display:none;\">\n",
              "        \n",
              "  <svg xmlns=\"http://www.w3.org/2000/svg\" height=\"24px\"viewBox=\"0 0 24 24\"\n",
              "       width=\"24px\">\n",
              "    <path d=\"M0 0h24v24H0V0z\" fill=\"none\"/>\n",
              "    <path d=\"M18.56 5.44l.94 2.06.94-2.06 2.06-.94-2.06-.94-.94-2.06-.94 2.06-2.06.94zm-11 1L8.5 8.5l.94-2.06 2.06-.94-2.06-.94L8.5 2.5l-.94 2.06-2.06.94zm10 10l.94 2.06.94-2.06 2.06-.94-2.06-.94-.94-2.06-.94 2.06-2.06.94z\"/><path d=\"M17.41 7.96l-1.37-1.37c-.4-.4-.92-.59-1.43-.59-.52 0-1.04.2-1.43.59L10.3 9.45l-7.72 7.72c-.78.78-.78 2.05 0 2.83L4 21.41c.39.39.9.59 1.41.59.51 0 1.02-.2 1.41-.59l7.78-7.78 2.81-2.81c.8-.78.8-2.07 0-2.86zM5.41 20L4 18.59l7.72-7.72 1.47 1.35L5.41 20z\"/>\n",
              "  </svg>\n",
              "      </button>\n",
              "      \n",
              "  <style>\n",
              "    .colab-df-container {\n",
              "      display:flex;\n",
              "      flex-wrap:wrap;\n",
              "      gap: 12px;\n",
              "    }\n",
              "\n",
              "    .colab-df-convert {\n",
              "      background-color: #E8F0FE;\n",
              "      border: none;\n",
              "      border-radius: 50%;\n",
              "      cursor: pointer;\n",
              "      display: none;\n",
              "      fill: #1967D2;\n",
              "      height: 32px;\n",
              "      padding: 0 0 0 0;\n",
              "      width: 32px;\n",
              "    }\n",
              "\n",
              "    .colab-df-convert:hover {\n",
              "      background-color: #E2EBFA;\n",
              "      box-shadow: 0px 1px 2px rgba(60, 64, 67, 0.3), 0px 1px 3px 1px rgba(60, 64, 67, 0.15);\n",
              "      fill: #174EA6;\n",
              "    }\n",
              "\n",
              "    [theme=dark] .colab-df-convert {\n",
              "      background-color: #3B4455;\n",
              "      fill: #D2E3FC;\n",
              "    }\n",
              "\n",
              "    [theme=dark] .colab-df-convert:hover {\n",
              "      background-color: #434B5C;\n",
              "      box-shadow: 0px 1px 3px 1px rgba(0, 0, 0, 0.15);\n",
              "      filter: drop-shadow(0px 1px 2px rgba(0, 0, 0, 0.3));\n",
              "      fill: #FFFFFF;\n",
              "    }\n",
              "  </style>\n",
              "\n",
              "      <script>\n",
              "        const buttonEl =\n",
              "          document.querySelector('#df-ff3c1e4b-7fbe-4fe4-a5e1-b86ba1d36200 button.colab-df-convert');\n",
              "        buttonEl.style.display =\n",
              "          google.colab.kernel.accessAllowed ? 'block' : 'none';\n",
              "\n",
              "        async function convertToInteractive(key) {\n",
              "          const element = document.querySelector('#df-ff3c1e4b-7fbe-4fe4-a5e1-b86ba1d36200');\n",
              "          const dataTable =\n",
              "            await google.colab.kernel.invokeFunction('convertToInteractive',\n",
              "                                                     [key], {});\n",
              "          if (!dataTable) return;\n",
              "\n",
              "          const docLinkHtml = 'Like what you see? Visit the ' +\n",
              "            '<a target=\"_blank\" href=https://colab.research.google.com/notebooks/data_table.ipynb>data table notebook</a>'\n",
              "            + ' to learn more about interactive tables.';\n",
              "          element.innerHTML = '';\n",
              "          dataTable['output_type'] = 'display_data';\n",
              "          await google.colab.output.renderOutput(dataTable, element);\n",
              "          const docLink = document.createElement('div');\n",
              "          docLink.innerHTML = docLinkHtml;\n",
              "          element.appendChild(docLink);\n",
              "        }\n",
              "      </script>\n",
              "    </div>\n",
              "  </div>\n",
              "  "
            ]
          },
          "metadata": {},
          "execution_count": 74
        }
      ]
    },
    {
      "cell_type": "code",
      "source": [
        "data = np.array(data)"
      ],
      "metadata": {
        "id": "HJYMFj3Wud1r"
      },
      "execution_count": 75,
      "outputs": []
    },
    {
      "cell_type": "code",
      "source": [
        "data.shape"
      ],
      "metadata": {
        "colab": {
          "base_uri": "https://localhost:8080/"
        },
        "id": "ZKx3xoclumWA",
        "outputId": "3e642356-5664-4ab8-eaad-c498470c36a9"
      },
      "execution_count": 76,
      "outputs": [
        {
          "output_type": "execute_result",
          "data": {
            "text/plain": [
              "(32, 5)"
            ]
          },
          "metadata": {},
          "execution_count": 76
        }
      ]
    },
    {
      "cell_type": "code",
      "source": [
        "flavors = data[:,1]"
      ],
      "metadata": {
        "id": "sNtkCcHzuuci"
      },
      "execution_count": 77,
      "outputs": []
    },
    {
      "cell_type": "code",
      "source": [
        "flavors"
      ],
      "metadata": {
        "colab": {
          "base_uri": "https://localhost:8080/"
        },
        "id": "1Dl_x4D6u0-y",
        "outputId": "960f5d88-d672-4b27-db49-ac0a4b94955c"
      },
      "execution_count": null,
      "outputs": [
        {
          "output_type": "execute_result",
          "data": {
            "text/plain": [
              "array(['Cookie Dough', 'Butter Pecan', 'Mango', 'Mint', 'Cookie Dough',\n",
              "       'Cookie and Cream', 'Chocolate', 'Chocolate', 'Mint', 'Vanillia',\n",
              "       'Birthday Cake', 'Cookie Dough', 'Chocolate', 'Chocolate',\n",
              "       'Chocolate', 'Chocolate', 'Strawberry', 'Cookie and Cream',\n",
              "       'Butter Pecan', 'Chocolate', 'Strawberry', 'Cookie and Cream',\n",
              "       'Vanillia', 'Mango', 'Chocolate', 'Cookie Dough',\n",
              "       'Cookie and Cream', 'Mango', 'Pralines and Cream', 'Chocolate',\n",
              "       'Mint'], dtype=object)"
            ]
          },
          "metadata": {},
          "execution_count": 67
        }
      ]
    },
    {
      "cell_type": "code",
      "source": [
        "D = {}\n",
        "\n",
        "for flavor in flavors:\n",
        "    \n",
        "    count = np.sum(flavors == flavor)\n",
        "\n",
        "    print(flavor, count)\n",
        "\n",
        "    D[flavor] = count"
      ],
      "metadata": {
        "colab": {
          "base_uri": "https://localhost:8080/"
        },
        "id": "tBs3Szjjun2g",
        "outputId": "8b18ce62-32cd-42f7-b486-3f2b2c2e28ea"
      },
      "execution_count": null,
      "outputs": [
        {
          "output_type": "stream",
          "name": "stdout",
          "text": [
            "Cookie Dough 4\n",
            "Butter Pecan 2\n",
            "Mango 3\n",
            "Mint 3\n",
            "Cookie Dough 4\n",
            "Cookie and Cream 4\n",
            "Chocolate 9\n",
            "Chocolate 9\n",
            "Mint 3\n",
            "Vanillia 2\n",
            "Birthday Cake 1\n",
            "Cookie Dough 4\n",
            "Chocolate 9\n",
            "Chocolate 9\n",
            "Chocolate 9\n",
            "Chocolate 9\n",
            "Strawberry 2\n",
            "Cookie and Cream 4\n",
            "Butter Pecan 2\n",
            "Chocolate 9\n",
            "Strawberry 2\n",
            "Cookie and Cream 4\n",
            "Vanillia 2\n",
            "Mango 3\n",
            "Chocolate 9\n",
            "Cookie Dough 4\n",
            "Cookie and Cream 4\n",
            "Mango 3\n",
            "Pralines and Cream 1\n",
            "Chocolate 9\n",
            "Mint 3\n"
          ]
        }
      ]
    },
    {
      "cell_type": "code",
      "source": [
        "names = list(D.keys())\n",
        "values = list(D.values())\n",
        "\n",
        "N = len(names)\n",
        "cmap = plt.cm.tab10\n",
        "colors = cmap(np.arange(N) % cmap.N)\n",
        "ax = plt.gca()\n",
        "ax.bar(range(len(D)), values, tick_label=names, color = colors)\n",
        "ax.set_xticklabels(names, rotation = 45)\n",
        "plt.show()"
      ],
      "metadata": {
        "colab": {
          "base_uri": "https://localhost:8080/",
          "height": 331
        },
        "id": "7GVQiKsYvGkY",
        "outputId": "ab6cf594-75dc-483e-e48e-4a227795349e"
      },
      "execution_count": null,
      "outputs": [
        {
          "output_type": "display_data",
          "data": {
            "text/plain": [
              "<Figure size 432x288 with 1 Axes>"
            ],
            "image/png": "[encoded data removed]"
          },
          "metadata": {
            "needs_background": "light"
          }
        }
      ]
    },
    {
      "cell_type": "code",
      "source": [],
      "metadata": {
        "id": "yMiPWt1TvS_q"
      },
      "execution_count": null,
      "outputs": []
    }
  ]
}